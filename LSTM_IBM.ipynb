{
  "nbformat": 4,
  "nbformat_minor": 0,
  "metadata": {
    "colab": {
      "name": "LSTM IBM.ipynb",
      "provenance": [],
      "collapsed_sections": []
    },
    "kernelspec": {
      "name": "python3",
      "display_name": "Python 3"
    }
  },
  "cells": [
    {
      "cell_type": "markdown",
      "metadata": {
        "id": "dOz5kXre2Dox",
        "colab_type": "text"
      },
      "source": [
        ""
      ]
    },
    {
      "cell_type": "code",
      "metadata": {
        "id": "ahmmFBr5BYa5",
        "colab_type": "code",
        "colab": {}
      },
      "source": [
        "!pip install -U -q PyDrive"
      ],
      "execution_count": 18,
      "outputs": []
    },
    {
      "cell_type": "code",
      "metadata": {
        "id": "hT8lsBr2BDNU",
        "colab_type": "code",
        "colab": {}
      },
      "source": [
        "from pydrive.auth import GoogleAuth\n",
        "from pydrive.drive import GoogleDrive\n",
        "from google.colab import auth\n",
        "from oauth2client.client import GoogleCredentials\n"
      ],
      "execution_count": 19,
      "outputs": []
    },
    {
      "cell_type": "code",
      "metadata": {
        "id": "Bt2C4D1jGYke",
        "colab_type": "code",
        "colab": {}
      },
      "source": [
        "auth.authenticate_user()\n",
        "gauth = GoogleAuth()\n",
        "gauth.credentials = GoogleCredentials.get_application_default()\n",
        "drive = GoogleDrive(gauth)"
      ],
      "execution_count": 20,
      "outputs": []
    },
    {
      "cell_type": "markdown",
      "metadata": {
        "id": "2lqCn9WXP-Dy",
        "colab_type": "text"
      },
      "source": [
        "# New Section"
      ]
    },
    {
      "cell_type": "code",
      "metadata": {
        "id": "dh436f1iGfdH",
        "colab_type": "code",
        "colab": {}
      },
      "source": [
        "link='https://drive.google.com/file/d/14s44-xik0NjVtc2R8Gxj6jdI-JE64ysV/view?usp=sharing'"
      ],
      "execution_count": 21,
      "outputs": []
    },
    {
      "cell_type": "code",
      "metadata": {
        "id": "9soyc-5pHOeL",
        "colab_type": "code",
        "colab": {
          "base_uri": "https://localhost:8080/",
          "height": 34
        },
        "outputId": "a06e93f4-6be7-4e7c-fe1f-6ce56855d4cf"
      },
      "source": [
        "fluff, id = link.split('=')\n",
        "id = '14s44-xik0NjVtc2R8Gxj6jdI-JE64ysV'\n",
        "print (id) # Verify that you have everything after '='"
      ],
      "execution_count": 25,
      "outputs": [
        {
          "output_type": "stream",
          "text": [
            "14s44-xik0NjVtc2R8Gxj6jdI-JE64ysV\n"
          ],
          "name": "stdout"
        }
      ]
    },
    {
      "cell_type": "code",
      "metadata": {
        "id": "wNz9S19IHSa4",
        "colab_type": "code",
        "colab": {}
      },
      "source": [
        "import pandas as pd\n",
        "downloaded = drive.CreateFile({'id':id}) \n",
        "downloaded.GetContentFile('corona_tweets_01.csv')  \n",
        "dataframe=pd.read_csv(\"corona_tweets_01.csv\", header=None)"
      ],
      "execution_count": 26,
      "outputs": []
    },
    {
      "cell_type": "code",
      "metadata": {
        "id": "otLQdXJs83CZ",
        "colab_type": "code",
        "colab": {}
      },
      "source": [
        "dataframe=pd.DataFrame(dataframe[0])"
      ],
      "execution_count": 27,
      "outputs": []
    },
    {
      "cell_type": "code",
      "metadata": {
        "id": "ziFKL-b2HYYh",
        "colab_type": "code",
        "colab": {
          "base_uri": "https://localhost:8080/",
          "height": 419
        },
        "outputId": "6b99f3cc-695b-4422-a379-744355e8fc54"
      },
      "source": [
        "dataframe.to_csv(\"ready_corona_tweets_01.txt\", index=False, header=None)\n",
        "dataframe"
      ],
      "execution_count": 28,
      "outputs": [
        {
          "output_type": "execute_result",
          "data": {
            "text/html": [
              "<div>\n",
              "<style scoped>\n",
              "    .dataframe tbody tr th:only-of-type {\n",
              "        vertical-align: middle;\n",
              "    }\n",
              "\n",
              "    .dataframe tbody tr th {\n",
              "        vertical-align: top;\n",
              "    }\n",
              "\n",
              "    .dataframe thead th {\n",
              "        text-align: right;\n",
              "    }\n",
              "</style>\n",
              "<table border=\"1\" class=\"dataframe\">\n",
              "  <thead>\n",
              "    <tr style=\"text-align: right;\">\n",
              "      <th></th>\n",
              "      <th>0</th>\n",
              "    </tr>\n",
              "  </thead>\n",
              "  <tbody>\n",
              "    <tr>\n",
              "      <th>0</th>\n",
              "      <td>1240727808080412673</td>\n",
              "    </tr>\n",
              "    <tr>\n",
              "      <th>1</th>\n",
              "      <td>1240727808005079041</td>\n",
              "    </tr>\n",
              "    <tr>\n",
              "      <th>2</th>\n",
              "      <td>1240727808340414464</td>\n",
              "    </tr>\n",
              "    <tr>\n",
              "      <th>3</th>\n",
              "      <td>1240727808629813248</td>\n",
              "    </tr>\n",
              "    <tr>\n",
              "      <th>4</th>\n",
              "      <td>1240727808617230336</td>\n",
              "    </tr>\n",
              "    <tr>\n",
              "      <th>...</th>\n",
              "      <td>...</td>\n",
              "    </tr>\n",
              "    <tr>\n",
              "      <th>831322</th>\n",
              "      <td>1240861453524930562</td>\n",
              "    </tr>\n",
              "    <tr>\n",
              "      <th>831323</th>\n",
              "      <td>1240861453554315265</td>\n",
              "    </tr>\n",
              "    <tr>\n",
              "      <th>831324</th>\n",
              "      <td>1240861453503959043</td>\n",
              "    </tr>\n",
              "    <tr>\n",
              "      <th>831325</th>\n",
              "      <td>1240861453311070209</td>\n",
              "    </tr>\n",
              "    <tr>\n",
              "      <th>831326</th>\n",
              "      <td>1240861453680128000</td>\n",
              "    </tr>\n",
              "  </tbody>\n",
              "</table>\n",
              "<p>831327 rows × 1 columns</p>\n",
              "</div>"
            ],
            "text/plain": [
              "                          0\n",
              "0       1240727808080412673\n",
              "1       1240727808005079041\n",
              "2       1240727808340414464\n",
              "3       1240727808629813248\n",
              "4       1240727808617230336\n",
              "...                     ...\n",
              "831322  1240861453524930562\n",
              "831323  1240861453554315265\n",
              "831324  1240861453503959043\n",
              "831325  1240861453311070209\n",
              "831326  1240861453680128000\n",
              "\n",
              "[831327 rows x 1 columns]"
            ]
          },
          "metadata": {
            "tags": []
          },
          "execution_count": 28
        }
      ]
    },
    {
      "cell_type": "code",
      "metadata": {
        "id": "rft6vkMKoHTO",
        "colab_type": "code",
        "colab": {}
      },
      "source": [
        ""
      ],
      "execution_count": null,
      "outputs": []
    },
    {
      "cell_type": "code",
      "metadata": {
        "id": "WA8Ng_lN-Gbd",
        "colab_type": "code",
        "colab": {
          "base_uri": "https://localhost:8080/",
          "height": 326
        },
        "outputId": "d531405a-35f9-4558-bd3c-40edcfc14f55"
      },
      "source": [
        "pip install twarc"
      ],
      "execution_count": 29,
      "outputs": [
        {
          "output_type": "stream",
          "text": [
            "Requirement already satisfied: twarc in /usr/local/lib/python3.6/dist-packages (1.10.1)\n",
            "Requirement already satisfied: requests-oauthlib in /usr/local/lib/python3.6/dist-packages (from twarc) (1.3.0)\n",
            "Requirement already satisfied: python-dateutil in /usr/local/lib/python3.6/dist-packages (from twarc) (2.8.1)\n",
            "Requirement already satisfied: pytest in /usr/local/lib/python3.6/dist-packages (from twarc) (3.6.4)\n",
            "Requirement already satisfied: requests>=2.0.0 in /usr/local/lib/python3.6/dist-packages (from requests-oauthlib->twarc) (2.23.0)\n",
            "Requirement already satisfied: oauthlib>=3.0.0 in /usr/local/lib/python3.6/dist-packages (from requests-oauthlib->twarc) (3.1.0)\n",
            "Requirement already satisfied: six>=1.5 in /usr/local/lib/python3.6/dist-packages (from python-dateutil->twarc) (1.12.0)\n",
            "Requirement already satisfied: attrs>=17.4.0 in /usr/local/lib/python3.6/dist-packages (from pytest->twarc) (19.3.0)\n",
            "Requirement already satisfied: atomicwrites>=1.0 in /usr/local/lib/python3.6/dist-packages (from pytest->twarc) (1.4.0)\n",
            "Requirement already satisfied: py>=1.5.0 in /usr/local/lib/python3.6/dist-packages (from pytest->twarc) (1.9.0)\n",
            "Requirement already satisfied: more-itertools>=4.0.0 in /usr/local/lib/python3.6/dist-packages (from pytest->twarc) (8.4.0)\n",
            "Requirement already satisfied: setuptools in /usr/local/lib/python3.6/dist-packages (from pytest->twarc) (49.1.0)\n",
            "Requirement already satisfied: pluggy<0.8,>=0.5 in /usr/local/lib/python3.6/dist-packages (from pytest->twarc) (0.7.1)\n",
            "Requirement already satisfied: urllib3!=1.25.0,!=1.25.1,<1.26,>=1.21.1 in /usr/local/lib/python3.6/dist-packages (from requests>=2.0.0->requests-oauthlib->twarc) (1.24.3)\n",
            "Requirement already satisfied: chardet<4,>=3.0.2 in /usr/local/lib/python3.6/dist-packages (from requests>=2.0.0->requests-oauthlib->twarc) (3.0.4)\n",
            "Requirement already satisfied: idna<3,>=2.5 in /usr/local/lib/python3.6/dist-packages (from requests>=2.0.0->requests-oauthlib->twarc) (2.10)\n",
            "Requirement already satisfied: certifi>=2017.4.17 in /usr/local/lib/python3.6/dist-packages (from requests>=2.0.0->requests-oauthlib->twarc) (2020.6.20)\n"
          ],
          "name": "stdout"
        }
      ]
    },
    {
      "cell_type": "code",
      "metadata": {
        "id": "TGFoWrSpGXFZ",
        "colab_type": "code",
        "colab": {}
      },
      "source": [
        "accesstoken='1427751738-lXHLG1ocIx0K83p5OKuqfmfnbtugZn4n1S1GzA7'\n",
        "accesstokenkey='EcTbXH6bYC2nJEyZGXEakfJiPcFixdS2i4txSYx2cXE0f'\n",
        "apikey='6iaCc1iamER8NdvOCApHMN7Io'\n",
        "apisecretkey='qKZ7jnoHFYzhZdgxku1dWAAgTQfUhvMOK40x4L0yy98BRPwYow'"
      ],
      "execution_count": 30,
      "outputs": []
    },
    {
      "cell_type": "code",
      "metadata": {
        "id": "rO8RHAVN-ETO",
        "colab_type": "code",
        "colab": {}
      },
      "source": [
        "from twarc import Twarc"
      ],
      "execution_count": 31,
      "outputs": []
    },
    {
      "cell_type": "code",
      "metadata": {
        "id": "rg_NGvWSHi9I",
        "colab_type": "code",
        "colab": {}
      },
      "source": [
        "t = Twarc(apikey, apisecretkey, accesstoken, accesstokenkey)"
      ],
      "execution_count": 32,
      "outputs": []
    },
    {
      "cell_type": "code",
      "metadata": {
        "id": "rojbbqSWGSrC",
        "colab_type": "code",
        "colab": {}
      },
      "source": [
        "list_tweets=[]\n",
        "for x,tweet in enumerate(t.hydrate(open('ready_corona_tweets_01.txt'))):\n",
        "  if(x==100):\n",
        "    break;\n",
        "  list_tweets.append(tweet['full_text'])"
      ],
      "execution_count": 33,
      "outputs": []
    },
    {
      "cell_type": "code",
      "metadata": {
        "id": "B0OaPTsc-_2y",
        "colab_type": "code",
        "colab": {
          "base_uri": "https://localhost:8080/",
          "height": 1000
        },
        "outputId": "de9bbea2-6427-4273-8cdb-3cc1595cbb19"
      },
      "source": [
        "list_tweets"
      ],
      "execution_count": 34,
      "outputs": [
        {
          "output_type": "execute_result",
          "data": {
            "text/plain": [
              "['Wuhan has been in complete quarantine for over 8 weeks. \\n\\nPeople here are still going about their daily lives as normal. \\n\\nThis is pure fantasy. https://t.co/AUZbGNRDjM',\n",
              " 'RT @chandlerriggs: here’s a deleted scene from TWD’s special on corona virus https://t.co/qGuSfyjpK5',\n",
              " \"RT @RedTRaccoon: You can no longer defend this.\\n\\nMake up any excuse or reasoning you want, it's intentional and it's racist.\",\n",
              " 'Pretty much any corona virus germ that wants to or has entered my body these passed hours are all being bodied by these shots of henny https://t.co/HLsSEnRksu',\n",
              " 'RT @RealSaavedra: Good.\\n\\nIt came from China.',\n",
              " 'RT @nicolebyer: Everyone in this looks sick',\n",
              " 'RT @jabinbotsford: Close up of President @realDonaldTrump notes is seen where he crossed out \"Corona\" and replaced it with \"Chinese\" Virus…',\n",
              " 'RT @Biancaixvi: Corona day 3: it just feels like Sunday again and...again',\n",
              " 'RT @FernandoAmandi: China’s irresponsible and criminal behavior in the wake of COVID-19 will leave it in its weakest global position in mem…',\n",
              " 'RT @MarleeMatlin: Pls RT. Dear @WhiteHouse news &amp; press conferences around the country during this Corona Virus Emergency have  sign langua…',\n",
              " 'RT @ioproducer: There was a nasty flu that went round in December / early Jan. I’m telling you, that was corona. Bare ppl were sick (includ…',\n",
              " 'RT @Biancaixvi: Corona day 3: it just feels like Sunday again and...again',\n",
              " \"RT @RealbosstalkDt: Lets start a resource thread for loans and grants for small businesses affected by corona. We'll start: (PLEASE SHARE)…\",\n",
              " \"RT @olcayerdd: #PTTEmekcileriRiskAltinda the corona is very dangerous so don't come to the post office\",\n",
              " 'RT @Damii_aros: Mayorkun is somewhere in the studio singing \"Ramona, this your body dey killing person like Corona\"',\n",
              " 'RT @jbarro: Among other things, what this shows is they\\'re using the term \"the coronavirus\" internally like everyone else and are throwing…',\n",
              " \"@citizentvkenya But are these measures enough? I don't think so. 120 bed capacity,not good. How about the whole facility be set aside for corona virus?\",\n",
              " 'RT @bowcoupmerci: @DanRather Yes! And where the hell are these? Jack Ma donated 500,000 testing kits and 1 million masks.  #WhereAreTheMask…',\n",
              " 'RT @TattooedFemdom: My dick is Bigger than Corona virus\\nMy dick is Bigger than Corona virus\\nMy dick is Bigger than Corona virus\\nMy dick is…',\n",
              " \"RT @MiekeEoyang: They're trying to spur a culture war to distract from their own incompetence. \\n\\nSo you don't notice them:\\n\\nfiring professi…\",\n",
              " 'RT @isoquince: Me at my funeral when I hear Messi dropped a 6.2 rating on SofaScore https://t.co/1g7HDdmiRL https://t.co/yGFo6iWTIY',\n",
              " 'RT @nicolebyer: Everyone in this looks sick',\n",
              " 'RT @MrJonCryer: There you have it.\\n\\nProof that this is an intentional tactic. Trump et al are trying to bait us into fighting over his raci…',\n",
              " 'RT @CarolineCBaxter: *Non-Corona content*: The Patriot missile, its overuse, and the Middle East.  Give yourself a break from pandemic cove…',\n",
              " 'RT @Stout97_: 2 weeks? it’s a fucking global pandemic not a hamstring strain.',\n",
              " 'RT @CandiceBenbow: This is Generation Z. \\n\\nI want to name that because folks love calling everybody 40 and under Millennials.\\n\\nMillennials…',\n",
              " 'RT @goodbeanaltalt: holy shit I hate every person in this video',\n",
              " 'RT @Vijayabaskarofl: #Corona: I cldn’t wind up the day, without visiting #RGGH to check d health progress of Covid19 Pts . Am glad to see t…',\n",
              " \"RT @everywhereist: If he wasn't so vain as to eschew wearing the glasses he OBVIOUSLY needs, the font wouldn't be so big, and we wouldn't h…\",\n",
              " 'RT @charlesornstein: Holy shit. This is not fake news.',\n",
              " 'RT @LiILevi: The only man who can save us from corona virus https://t.co/Qoc1QhVYm5',\n",
              " 'RT @A_Men12: Somebody check on this mans cte',\n",
              " 'RT @MissjowilsonJo: @jet2tweets I’ve been admiring how you are dealing with customers since this whole corona virus started. However today…',\n",
              " 'RT @askjillian: Disgusting. But let’s clutch our pearls bc @RickWilson’s riff on #bebest These ppl are actively killing Americans.',\n",
              " 'RT @mitchellreports: Photo of @realDonaldTrump briefing papers from today shows \"corona\" crossed out and \"Chinese\" written in his sharpie h…',\n",
              " 'RT @pattonoswalt: this incompetent racist asshole',\n",
              " 'My 87 year old stepmom was admitted to Memorial Hospital Belleville,Illinois last night with a fever and coughing and she said they wouldn’t test her for the Corona Virus because she hasn’t traveled. Had talked with her day prior nothing. What the hell is wrong with this her age.',\n",
              " 'I literally just said this lmaoooo https://t.co/71gAp5t3m4',\n",
              " 'RT @goodbeanaltalt: holy shit I hate every person in this video',\n",
              " 'RT @MakedaMorrison: Day 5: We have rediscovered farming',\n",
              " 'RT @MakedaMorrison: Day 5: We have rediscovered farming',\n",
              " 'RT @Shehzad_Ind: Lakhs of daily wagers - domestic help, carpenters,cleaners, plumbers,spot boys on sets,etc will lose livelihood due to soc…',\n",
              " 'RT @AndersFoghR: We must bring Taiwan fully into the @WHO now. \\n\\nTo date, Taiwan has around 100 cases of #COVID2019 despite its proximity t…',\n",
              " 'RT @joncoopertweets: “If I get corona, I get corona,” said one Ohio student on spring break in Florida. “At the end of the day, I’m not gon…',\n",
              " 'RT @CandiceBenbow: This is Generation Z. \\n\\nI want to name that because folks love calling everybody 40 and under Millennials.\\n\\nMillennials…',\n",
              " \"RT @RedTRaccoon: You can no longer defend this.\\n\\nMake up any excuse or reasoning you want, it's intentional and it's racist. https://t.co/M…\",\n",
              " 'RT @CandiceBenbow: This is Generation Z. \\n\\nI want to name that because folks love calling everybody 40 and under Millennials.\\n\\nMillennials…',\n",
              " 'RT @ChronicleKano: Kano State Emergency contacts in case of suspected Corona Virus Outbreak:\\n\\nDr. Imam Wada Bello\\n08050303343\\n\\nDr Bashir La…',\n",
              " 'RT @ed_solomon: This is repugnant',\n",
              " 'RT @yagirlren: BREAKING‼️‼️‼️\\na new symptom of the corona virus was just discovered. It’s called PJP which translates to Phat. Juicy. Pussy…',\n",
              " 'RT @ioproducer: There was a nasty flu that went round in December / early Jan. I’m telling you, that was corona. Bare ppl were sick (includ…',\n",
              " 'RT @Parkour_Lewis: Whatever you say Corona Sandiego',\n",
              " 'A 34 year old from Pasadena is the first person to die from Corona after visiting @Disneyland in Florida. \\n\\nShame on Disneyland for not closing sooner. Smh. They should’ve known something like this would happen with the recent measles outbreak that happened in Anaheim recently.',\n",
              " 'RT @iam_erhnehst: Everything was fine in the world until Liverpool decided to take the premier league title 😩💔😂\\nKobe died😩\\nWorld war 3\\nCoro…',\n",
              " 'RT @1DJFirstClass: Me &amp; My Niggas Walking In The Club After The Corona Epidemic End https://t.co/UvCiTK51uG',\n",
              " 'RT @MiracleShadrack: My hand after washing it 20 times today 😣😣\\n\\n   Look at what corona has cause😷😭😭\\n        \\nBomboclaat https://t.co/zToIS…',\n",
              " 'RT @dibindots: smoke break? unless you got corona stay backkkkk',\n",
              " \"@JahmalUsen What's the problem?\\nWhat are you going through? \\nYou can talk to me. \\nYou can't commit suicide in this corona virus era, don't try to run away.\",\n",
              " 'this quarantine has kicked my depression up a couple notches thanks to my work and routine being void now and im effectively avoiding my phone now bc everyone is nuts sending corona stuff. dont blame them but christ the anxiety is driving me up the wall',\n",
              " 'RT @LetsWeeb: Weebs be sitting at home tweeting about the corona but watch anime on illegal sites. Mfs worried about the wrong virus',\n",
              " 'RT @PatPenn2: 🚨Bill Hemmer,on Fox,just had a Doctor on that said Corona can be stopped within 2 weeks with Chloroquine.Hemmer was shocked &amp;…',\n",
              " 'RT @bIondiewasabi: this man’s piss could stop corona',\n",
              " 'RT @chandlerriggs: here’s a deleted scene from TWD’s special on corona virus https://t.co/qGuSfyjpK5',\n",
              " 'RT @ioproducer: There was a nasty flu that went round in December / early Jan. I’m telling you, that was corona. Bare ppl were sick (includ…',\n",
              " 'RT @jabinbotsford: Close up of President @realDonaldTrump notes is seen where he crossed out \"Corona\" and replaced it with \"Chinese\" Virus…',\n",
              " 'RT @CandiceBenbow: This is Generation Z. \\n\\nI want to name that because folks love calling everybody 40 and under Millennials.\\n\\nMillennials…',\n",
              " 'RT @MakedaMorrison: Day 5: We have rediscovered farming',\n",
              " 'RT @ioproducer: There was a nasty flu that went round in December / early Jan. I’m telling you, that was corona. Bare ppl were sick (includ…',\n",
              " 'RT @MakedaMorrison: Day 5: We have rediscovered farming',\n",
              " 'RT @jbarro: Among other things, what this shows is they\\'re using the term \"the coronavirus\" internally like everyone else and are throwing…',\n",
              " 'Aha. Knew it. Another hidden family issue will be an explosion of credit card debt. https://t.co/9lRUb9bZXK',\n",
              " 'RT @ebs_the_great: A lot of you would actually benefit from taking a good look introspectively at your issues with women. This is just gros…',\n",
              " 'RT @jbarro: Among other things, what this shows is they\\'re using the term \"the coronavirus\" internally like everyone else and are throwing…',\n",
              " 'RT @jabinbotsford: Close up of President @realDonaldTrump notes is seen where he crossed out \"Corona\" and replaced it with \"Chinese\" Virus…',\n",
              " 'RT @CandiceBenbow: This is Generation Z. \\n\\nI want to name that because folks love calling everybody 40 and under Millennials.\\n\\nMillennials…',\n",
              " 'RT @MLKChefLean: Sharing this because corona  https://t.co/ofBDQE58RJ',\n",
              " 'RT @ioproducer: There was a nasty flu that went round in December / early Jan. I’m telling you, that was corona. Bare ppl were sick (includ…',\n",
              " '@TheEllenShow Stay safe. Will you do any show in India once Corona shit is over? ❤️',\n",
              " 'RT @Simon_Nixon: It’s increasingly hard to avoid the conclusion that Britain’s failure to scale up testing is a result of the government’s…',\n",
              " \"RT @ARanganathan72: Many mocking him but he hasn't said anything preposterous. No link of Vitamin D with Corona, and his comment must not b…\",\n",
              " 'RT @NewYorkStateAG: This. Is. Unacceptable.\\n \\nI will continue to remind my fellow New Yorkers that this kind of bigoted behavior will NOT b…',\n",
              " 'I almost bought one yesterday, but to get a single it had to be in a can. And I promoted the improved version of my recommended slogan: “Corona without the virus.” I expect their sales are up. https://t.co/oKcoJAw2uc',\n",
              " 'RT @goodbeanaltalt: holy shit I hate every person in this video',\n",
              " 'RT @nicolebyer: Everyone in this looks sick',\n",
              " 'WHAT A FUCKING LIBERTY! https://t.co/fCbYdpznnk',\n",
              " 'RT @MakedaMorrison: Day 5: We have rediscovered farming https://t.co/tTrScYz6js',\n",
              " \"Please stop blaming Millennials for something stupid said by a Z Generation kid. Also don't blame all Z Generation kids for a handful of stupid ones. I grew up with plenty of idiots who would be doing the same thing and I'm an XGen. https://t.co/UD357VMg4B\",\n",
              " 'RT @Bottom_Prince90: Corona not going to stop me from having fun!  Lol Cleveland freaks where y’all at?!? https://t.co/pPuCCUMjWs',\n",
              " '@Ken_Matt3 Might as well call me Corona Key at this point 😂💀',\n",
              " \"Lowkey @NetflixIndia should start giving free subscriptions to keep people inside.\\n\\nI'm just saying tho.🙆🏻\\u200d♂️😊\\n#corona\",\n",
              " 'That Indian corona music video is killing me😂',\n",
              " 'RT @goodbeanaltalt: holy shit I hate every person in this video',\n",
              " 'RT @aaronneedshelp: my last white blood cell challenging corona to a dance battle for the fate for my body\\nhttps://t.co/gdIpoKQoZB',\n",
              " 'RT @AyoBankole: The hard part is that Nigeria isn’t wired to lock down. Majority workers are in the informal space &amp; poor. The formal secto…',\n",
              " 'RT @MollyJongFast: Trump is trying to distract you from his incompetence with his racism, don’t let him.',\n",
              " 'RT @goodbeanaltalt: holy shit I hate every person in this video',\n",
              " 'RT @chandlerriggs: here’s a deleted scene from TWD’s special on corona virus https://t.co/qGuSfyjpK5',\n",
              " 'RT @PragObots: Trump is racist.',\n",
              " 'RT @MakedaMorrison: Day 5: We have rediscovered farming',\n",
              " 'RT @TimMurtaugh: POTUS edits the copy for accuracy.']"
            ]
          },
          "metadata": {
            "tags": []
          },
          "execution_count": 34
        }
      ]
    },
    {
      "cell_type": "code",
      "metadata": {
        "id": "n7sBuFEy_LLD",
        "colab_type": "code",
        "colab": {}
      },
      "source": [
        "# Create a function to clean the tweets\n",
        "import re\n",
        "\n",
        "def deEmojify(text):\n",
        "    regrex_pattern = re.compile(pattern = \"[\"\n",
        "        u\"\\U0001F600-\\U0001F64F\"  # emoticons\n",
        "        u\"\\U0001F300-\\U0001F5FF\"  # symbols & pictographs\n",
        "        u\"\\U0001F680-\\U0001F6FF\"  # transport & map symbols\n",
        "        u\"\\U0001F1E0-\\U0001F1FF\"  # flags (iOS)\n",
        "                           \"]+\", flags = re.UNICODE)\n",
        "    text.encode('ascii', 'ignore').decode('ascii')\n",
        "    return regrex_pattern.sub(r'',text)\n",
        "\n",
        "def cleanTxt(text):\n",
        " text = re.sub('@[A-Za-z0–9]+', '', text) #Removing @mentions\n",
        " text = re.sub('#', '', text) # Removing '#' hash tag\n",
        " text = re.sub('RT[\\s]+', '', text) # Removing RT\n",
        " text = re.sub('https?:\\/\\/\\S+', '', text) # Removing hyperlink\n",
        " text = re.sub('\\n', '', text) #REmoving Marks\n",
        " text = re.sub(':', '', text) #REmoving Marks\n",
        " text = re.sub('_', '', text) #REmoving Marks\n",
        " \n",
        " text=deEmojify(text)\n",
        " return text\n",
        "\n",
        "\n",
        "\n",
        "list_tweets=list(map(cleanTxt,list_tweets))"
      ],
      "execution_count": 35,
      "outputs": []
    },
    {
      "cell_type": "code",
      "metadata": {
        "id": "0_bG5XPDADRs",
        "colab_type": "code",
        "colab": {}
      },
      "source": [
        ""
      ],
      "execution_count": null,
      "outputs": []
    },
    {
      "cell_type": "code",
      "metadata": {
        "id": "CdjnEQPqCrFZ",
        "colab_type": "code",
        "colab": {
          "base_uri": "https://localhost:8080/",
          "height": 476
        },
        "outputId": "3bd3a90b-1fa7-4ee6-991f-fd346667d8dc"
      },
      "source": [
        "list_tweets_final=[]\n",
        "for x,tweet in enumerate(t.hydrate(open('ready_corona_tweets_01.txt'))):\n",
        "  list_tweets_final.append(tweet['full_text'])\n",
        "  \n",
        "\n",
        "  "
      ],
      "execution_count": 44,
      "outputs": [
        {
          "output_type": "stream",
          "text": [
            "WARNING:twarc:rate limit exceeded: sleeping 201.3526153564453 secs\n",
            "ERROR:twarc:caught connection error ('Connection aborted.', ConnectionResetError(104, 'Connection reset by peer')) on 1 try\n"
          ],
          "name": "stderr"
        },
        {
          "output_type": "error",
          "ename": "KeyboardInterrupt",
          "evalue": "ignored",
          "traceback": [
            "\u001b[0;31m---------------------------------------------------------------------------\u001b[0m",
            "\u001b[0;31mTypeError\u001b[0m                                 Traceback (most recent call last)",
            "\u001b[0;32m/usr/local/lib/python3.6/dist-packages/urllib3/connectionpool.py\u001b[0m in \u001b[0;36m_make_request\u001b[0;34m(self, conn, method, url, timeout, chunked, **httplib_request_kw)\u001b[0m\n\u001b[1;32m    376\u001b[0m             \u001b[0;32mtry\u001b[0m\u001b[0;34m:\u001b[0m  \u001b[0;31m# Python 2.7, use buffering of HTTP responses\u001b[0m\u001b[0;34m\u001b[0m\u001b[0;34m\u001b[0m\u001b[0m\n\u001b[0;32m--> 377\u001b[0;31m                 \u001b[0mhttplib_response\u001b[0m \u001b[0;34m=\u001b[0m \u001b[0mconn\u001b[0m\u001b[0;34m.\u001b[0m\u001b[0mgetresponse\u001b[0m\u001b[0;34m(\u001b[0m\u001b[0mbuffering\u001b[0m\u001b[0;34m=\u001b[0m\u001b[0;32mTrue\u001b[0m\u001b[0;34m)\u001b[0m\u001b[0;34m\u001b[0m\u001b[0;34m\u001b[0m\u001b[0m\n\u001b[0m\u001b[1;32m    378\u001b[0m             \u001b[0;32mexcept\u001b[0m \u001b[0mTypeError\u001b[0m\u001b[0;34m:\u001b[0m  \u001b[0;31m# Python 3\u001b[0m\u001b[0;34m\u001b[0m\u001b[0;34m\u001b[0m\u001b[0m\n",
            "\u001b[0;31mTypeError\u001b[0m: getresponse() got an unexpected keyword argument 'buffering'",
            "\nDuring handling of the above exception, another exception occurred:\n",
            "\u001b[0;31mKeyboardInterrupt\u001b[0m                         Traceback (most recent call last)",
            "\u001b[0;32m<ipython-input-44-60059d03ea24>\u001b[0m in \u001b[0;36m<module>\u001b[0;34m()\u001b[0m\n\u001b[1;32m      1\u001b[0m \u001b[0mlist_tweets_final\u001b[0m\u001b[0;34m=\u001b[0m\u001b[0;34m[\u001b[0m\u001b[0;34m]\u001b[0m\u001b[0;34m\u001b[0m\u001b[0;34m\u001b[0m\u001b[0m\n\u001b[0;32m----> 2\u001b[0;31m \u001b[0;32mfor\u001b[0m \u001b[0mx\u001b[0m\u001b[0;34m,\u001b[0m\u001b[0mtweet\u001b[0m \u001b[0;32min\u001b[0m \u001b[0menumerate\u001b[0m\u001b[0;34m(\u001b[0m\u001b[0mt\u001b[0m\u001b[0;34m.\u001b[0m\u001b[0mhydrate\u001b[0m\u001b[0;34m(\u001b[0m\u001b[0mopen\u001b[0m\u001b[0;34m(\u001b[0m\u001b[0;34m'ready_corona_tweets_01.txt'\u001b[0m\u001b[0;34m)\u001b[0m\u001b[0;34m)\u001b[0m\u001b[0;34m)\u001b[0m\u001b[0;34m:\u001b[0m\u001b[0;34m\u001b[0m\u001b[0;34m\u001b[0m\u001b[0m\n\u001b[0m\u001b[1;32m      3\u001b[0m   \u001b[0mlist_tweets_final\u001b[0m\u001b[0;34m.\u001b[0m\u001b[0mappend\u001b[0m\u001b[0;34m(\u001b[0m\u001b[0mtweet\u001b[0m\u001b[0;34m[\u001b[0m\u001b[0;34m'full_text'\u001b[0m\u001b[0;34m]\u001b[0m\u001b[0;34m)\u001b[0m\u001b[0;34m\u001b[0m\u001b[0;34m\u001b[0m\u001b[0m\n\u001b[1;32m      4\u001b[0m \u001b[0;34m\u001b[0m\u001b[0m\n\u001b[1;32m      5\u001b[0m \u001b[0;34m\u001b[0m\u001b[0m\n",
            "\u001b[0;32m/usr/local/lib/python3.6/dist-packages/twarc/client.py\u001b[0m in \u001b[0;36mhydrate\u001b[0;34m(self, iterator, trim_user)\u001b[0m\n\u001b[1;32m    631\u001b[0m                     \u001b[0;34m\"include_ext_alt_text\"\u001b[0m\u001b[0;34m:\u001b[0m \u001b[0;34m'true'\u001b[0m\u001b[0;34m,\u001b[0m\u001b[0;34m\u001b[0m\u001b[0;34m\u001b[0m\u001b[0m\n\u001b[1;32m    632\u001b[0m                     \u001b[0;34m\"include_entities\"\u001b[0m\u001b[0;34m:\u001b[0m \u001b[0;34m'true'\u001b[0m\u001b[0;34m,\u001b[0m\u001b[0;34m\u001b[0m\u001b[0;34m\u001b[0m\u001b[0m\n\u001b[0;32m--> 633\u001b[0;31m                     \u001b[0;34m\"trim_user\"\u001b[0m\u001b[0;34m:\u001b[0m \u001b[0mtrim_user\u001b[0m\u001b[0;34m\u001b[0m\u001b[0;34m\u001b[0m\u001b[0m\n\u001b[0m\u001b[1;32m    634\u001b[0m                 })\n\u001b[1;32m    635\u001b[0m                 \u001b[0mtweets\u001b[0m \u001b[0;34m=\u001b[0m \u001b[0mresp\u001b[0m\u001b[0;34m.\u001b[0m\u001b[0mjson\u001b[0m\u001b[0;34m(\u001b[0m\u001b[0;34m)\u001b[0m\u001b[0;34m\u001b[0m\u001b[0;34m\u001b[0m\u001b[0m\n",
            "\u001b[0;32m/usr/local/lib/python3.6/dist-packages/twarc/decorators.py\u001b[0m in \u001b[0;36mnew_f\u001b[0;34m(*args, **kwargs)\u001b[0m\n\u001b[1;32m     19\u001b[0m         \u001b[0merrors\u001b[0m \u001b[0;34m=\u001b[0m \u001b[0;36m0\u001b[0m\u001b[0;34m\u001b[0m\u001b[0;34m\u001b[0m\u001b[0m\n\u001b[1;32m     20\u001b[0m         \u001b[0;32mwhile\u001b[0m \u001b[0;32mTrue\u001b[0m\u001b[0;34m:\u001b[0m\u001b[0;34m\u001b[0m\u001b[0;34m\u001b[0m\u001b[0m\n\u001b[0;32m---> 21\u001b[0;31m             \u001b[0mresp\u001b[0m \u001b[0;34m=\u001b[0m \u001b[0mf\u001b[0m\u001b[0;34m(\u001b[0m\u001b[0;34m*\u001b[0m\u001b[0margs\u001b[0m\u001b[0;34m,\u001b[0m \u001b[0;34m**\u001b[0m\u001b[0mkwargs\u001b[0m\u001b[0;34m)\u001b[0m\u001b[0;34m\u001b[0m\u001b[0;34m\u001b[0m\u001b[0m\n\u001b[0m\u001b[1;32m     22\u001b[0m             \u001b[0;32mif\u001b[0m \u001b[0mresp\u001b[0m\u001b[0;34m.\u001b[0m\u001b[0mstatus_code\u001b[0m \u001b[0;34m==\u001b[0m \u001b[0;36m200\u001b[0m\u001b[0;34m:\u001b[0m\u001b[0;34m\u001b[0m\u001b[0;34m\u001b[0m\u001b[0m\n\u001b[1;32m     23\u001b[0m                 \u001b[0merrors\u001b[0m \u001b[0;34m=\u001b[0m \u001b[0;36m0\u001b[0m\u001b[0;34m\u001b[0m\u001b[0;34m\u001b[0m\u001b[0m\n",
            "\u001b[0;32m/usr/local/lib/python3.6/dist-packages/twarc/decorators.py\u001b[0m in \u001b[0;36mnew_f\u001b[0;34m(self, *args, **kwargs)\u001b[0m\n\u001b[1;32m     80\u001b[0m                 \u001b[0;32mreturn\u001b[0m \u001b[0mf\u001b[0m\u001b[0;34m(\u001b[0m\u001b[0mself\u001b[0m\u001b[0;34m,\u001b[0m \u001b[0;34m*\u001b[0m\u001b[0margs\u001b[0m\u001b[0;34m,\u001b[0m \u001b[0;34m**\u001b[0m\u001b[0mkwargs\u001b[0m\u001b[0;34m)\u001b[0m\u001b[0;34m\u001b[0m\u001b[0;34m\u001b[0m\u001b[0m\n\u001b[1;32m     81\u001b[0m         \u001b[0;32melse\u001b[0m\u001b[0;34m:\u001b[0m\u001b[0;34m\u001b[0m\u001b[0;34m\u001b[0m\u001b[0m\n\u001b[0;32m---> 82\u001b[0;31m             \u001b[0;32mreturn\u001b[0m \u001b[0mf\u001b[0m\u001b[0;34m(\u001b[0m\u001b[0mself\u001b[0m\u001b[0;34m,\u001b[0m \u001b[0;34m*\u001b[0m\u001b[0margs\u001b[0m\u001b[0;34m,\u001b[0m \u001b[0;34m**\u001b[0m\u001b[0mkwargs\u001b[0m\u001b[0;34m)\u001b[0m\u001b[0;34m\u001b[0m\u001b[0;34m\u001b[0m\u001b[0m\n\u001b[0m\u001b[1;32m     83\u001b[0m     \u001b[0;32mreturn\u001b[0m \u001b[0mnew_f\u001b[0m\u001b[0;34m\u001b[0m\u001b[0;34m\u001b[0m\u001b[0m\n\u001b[1;32m     84\u001b[0m \u001b[0;34m\u001b[0m\u001b[0m\n",
            "\u001b[0;32m/usr/local/lib/python3.6/dist-packages/twarc/decorators.py\u001b[0m in \u001b[0;36mnew_f\u001b[0;34m(self, *args, **kwargs)\u001b[0m\n\u001b[1;32m     90\u001b[0m     \u001b[0;32mdef\u001b[0m \u001b[0mnew_f\u001b[0m\u001b[0;34m(\u001b[0m\u001b[0mself\u001b[0m\u001b[0;34m,\u001b[0m \u001b[0;34m*\u001b[0m\u001b[0margs\u001b[0m\u001b[0;34m,\u001b[0m \u001b[0;34m**\u001b[0m\u001b[0mkwargs\u001b[0m\u001b[0;34m)\u001b[0m\u001b[0;34m:\u001b[0m\u001b[0;34m\u001b[0m\u001b[0;34m\u001b[0m\u001b[0m\n\u001b[1;32m     91\u001b[0m         \u001b[0;32mtry\u001b[0m\u001b[0;34m:\u001b[0m\u001b[0;34m\u001b[0m\u001b[0;34m\u001b[0m\u001b[0m\n\u001b[0;32m---> 92\u001b[0;31m             \u001b[0;32mreturn\u001b[0m \u001b[0mf\u001b[0m\u001b[0;34m(\u001b[0m\u001b[0mself\u001b[0m\u001b[0;34m,\u001b[0m \u001b[0;34m*\u001b[0m\u001b[0margs\u001b[0m\u001b[0;34m,\u001b[0m \u001b[0;34m**\u001b[0m\u001b[0mkwargs\u001b[0m\u001b[0;34m)\u001b[0m\u001b[0;34m\u001b[0m\u001b[0;34m\u001b[0m\u001b[0m\n\u001b[0m\u001b[1;32m     93\u001b[0m         \u001b[0;32mexcept\u001b[0m \u001b[0;34m(\u001b[0m\u001b[0mReadTimeout\u001b[0m\u001b[0;34m,\u001b[0m \u001b[0mReadTimeoutError\u001b[0m\u001b[0;34m)\u001b[0m \u001b[0;32mas\u001b[0m \u001b[0me\u001b[0m\u001b[0;34m:\u001b[0m\u001b[0;34m\u001b[0m\u001b[0;34m\u001b[0m\u001b[0m\n\u001b[1;32m     94\u001b[0m             \u001b[0mlog\u001b[0m\u001b[0;34m.\u001b[0m\u001b[0mwarning\u001b[0m\u001b[0;34m(\u001b[0m\u001b[0;34m\"caught read timeout: %s\"\u001b[0m\u001b[0;34m,\u001b[0m \u001b[0me\u001b[0m\u001b[0;34m)\u001b[0m\u001b[0;34m\u001b[0m\u001b[0;34m\u001b[0m\u001b[0m\n",
            "\u001b[0;32m/usr/local/lib/python3.6/dist-packages/twarc/decorators.py\u001b[0m in \u001b[0;36mnew_f\u001b[0;34m(self, *args, **kwargs)\u001b[0m\n\u001b[1;32m    105\u001b[0m     \u001b[0;32mdef\u001b[0m \u001b[0mnew_f\u001b[0m\u001b[0;34m(\u001b[0m\u001b[0mself\u001b[0m\u001b[0;34m,\u001b[0m \u001b[0;34m*\u001b[0m\u001b[0margs\u001b[0m\u001b[0;34m,\u001b[0m \u001b[0;34m**\u001b[0m\u001b[0mkwargs\u001b[0m\u001b[0;34m)\u001b[0m\u001b[0;34m:\u001b[0m\u001b[0;34m\u001b[0m\u001b[0;34m\u001b[0m\u001b[0m\n\u001b[1;32m    106\u001b[0m         \u001b[0;32mtry\u001b[0m\u001b[0;34m:\u001b[0m\u001b[0;34m\u001b[0m\u001b[0;34m\u001b[0m\u001b[0m\n\u001b[0;32m--> 107\u001b[0;31m             \u001b[0;32mreturn\u001b[0m \u001b[0mf\u001b[0m\u001b[0;34m(\u001b[0m\u001b[0mself\u001b[0m\u001b[0;34m,\u001b[0m \u001b[0;34m*\u001b[0m\u001b[0margs\u001b[0m\u001b[0;34m,\u001b[0m \u001b[0;34m**\u001b[0m\u001b[0mkwargs\u001b[0m\u001b[0;34m)\u001b[0m\u001b[0;34m\u001b[0m\u001b[0;34m\u001b[0m\u001b[0m\n\u001b[0m\u001b[1;32m    108\u001b[0m         \u001b[0;32mexcept\u001b[0m \u001b[0mContentDecodingError\u001b[0m \u001b[0;32mas\u001b[0m \u001b[0me\u001b[0m\u001b[0;34m:\u001b[0m\u001b[0;34m\u001b[0m\u001b[0;34m\u001b[0m\u001b[0m\n\u001b[1;32m    109\u001b[0m             \u001b[0mlog\u001b[0m\u001b[0;34m.\u001b[0m\u001b[0mwarning\u001b[0m\u001b[0;34m(\u001b[0m\u001b[0;34m\"caught gzip error: %s\"\u001b[0m\u001b[0;34m,\u001b[0m \u001b[0me\u001b[0m\u001b[0;34m)\u001b[0m\u001b[0;34m\u001b[0m\u001b[0;34m\u001b[0m\u001b[0m\n",
            "\u001b[0;32m/usr/local/lib/python3.6/dist-packages/twarc/client.py\u001b[0m in \u001b[0;36mpost\u001b[0;34m(self, *args, **kwargs)\u001b[0m\n\u001b[1;32m    891\u001b[0m             \u001b[0mlog\u001b[0m\u001b[0;34m.\u001b[0m\u001b[0minfo\u001b[0m\u001b[0;34m(\u001b[0m\u001b[0;34m\"posting %s %s\"\u001b[0m\u001b[0;34m,\u001b[0m \u001b[0margs\u001b[0m\u001b[0;34m,\u001b[0m \u001b[0mkwargs\u001b[0m\u001b[0;34m)\u001b[0m\u001b[0;34m\u001b[0m\u001b[0;34m\u001b[0m\u001b[0m\n\u001b[1;32m    892\u001b[0m             self.last_response = self.client.post(*args, timeout=(3.05, 31),\n\u001b[0;32m--> 893\u001b[0;31m                                                   **kwargs)\n\u001b[0m\u001b[1;32m    894\u001b[0m             \u001b[0;32mreturn\u001b[0m \u001b[0mself\u001b[0m\u001b[0;34m.\u001b[0m\u001b[0mlast_response\u001b[0m\u001b[0;34m\u001b[0m\u001b[0;34m\u001b[0m\u001b[0m\n\u001b[1;32m    895\u001b[0m         \u001b[0;32mexcept\u001b[0m \u001b[0;34m(\u001b[0m\u001b[0mssl\u001b[0m\u001b[0;34m.\u001b[0m\u001b[0mSSLError\u001b[0m\u001b[0;34m,\u001b[0m \u001b[0mConnectionError\u001b[0m\u001b[0;34m,\u001b[0m \u001b[0mProtocolError\u001b[0m\u001b[0;34m)\u001b[0m \u001b[0;32mas\u001b[0m \u001b[0me\u001b[0m\u001b[0;34m:\u001b[0m\u001b[0;34m\u001b[0m\u001b[0;34m\u001b[0m\u001b[0m\n",
            "\u001b[0;32m/usr/local/lib/python3.6/dist-packages/requests/sessions.py\u001b[0m in \u001b[0;36mpost\u001b[0;34m(self, url, data, json, **kwargs)\u001b[0m\n\u001b[1;32m    576\u001b[0m         \"\"\"\n\u001b[1;32m    577\u001b[0m \u001b[0;34m\u001b[0m\u001b[0m\n\u001b[0;32m--> 578\u001b[0;31m         \u001b[0;32mreturn\u001b[0m \u001b[0mself\u001b[0m\u001b[0;34m.\u001b[0m\u001b[0mrequest\u001b[0m\u001b[0;34m(\u001b[0m\u001b[0;34m'POST'\u001b[0m\u001b[0;34m,\u001b[0m \u001b[0murl\u001b[0m\u001b[0;34m,\u001b[0m \u001b[0mdata\u001b[0m\u001b[0;34m=\u001b[0m\u001b[0mdata\u001b[0m\u001b[0;34m,\u001b[0m \u001b[0mjson\u001b[0m\u001b[0;34m=\u001b[0m\u001b[0mjson\u001b[0m\u001b[0;34m,\u001b[0m \u001b[0;34m**\u001b[0m\u001b[0mkwargs\u001b[0m\u001b[0;34m)\u001b[0m\u001b[0;34m\u001b[0m\u001b[0;34m\u001b[0m\u001b[0m\n\u001b[0m\u001b[1;32m    579\u001b[0m \u001b[0;34m\u001b[0m\u001b[0m\n\u001b[1;32m    580\u001b[0m     \u001b[0;32mdef\u001b[0m \u001b[0mput\u001b[0m\u001b[0;34m(\u001b[0m\u001b[0mself\u001b[0m\u001b[0;34m,\u001b[0m \u001b[0murl\u001b[0m\u001b[0;34m,\u001b[0m \u001b[0mdata\u001b[0m\u001b[0;34m=\u001b[0m\u001b[0;32mNone\u001b[0m\u001b[0;34m,\u001b[0m \u001b[0;34m**\u001b[0m\u001b[0mkwargs\u001b[0m\u001b[0;34m)\u001b[0m\u001b[0;34m:\u001b[0m\u001b[0;34m\u001b[0m\u001b[0;34m\u001b[0m\u001b[0m\n",
            "\u001b[0;32m/usr/local/lib/python3.6/dist-packages/requests/sessions.py\u001b[0m in \u001b[0;36mrequest\u001b[0;34m(self, method, url, params, data, headers, cookies, files, auth, timeout, allow_redirects, proxies, hooks, stream, verify, cert, json)\u001b[0m\n\u001b[1;32m    528\u001b[0m         }\n\u001b[1;32m    529\u001b[0m         \u001b[0msend_kwargs\u001b[0m\u001b[0;34m.\u001b[0m\u001b[0mupdate\u001b[0m\u001b[0;34m(\u001b[0m\u001b[0msettings\u001b[0m\u001b[0;34m)\u001b[0m\u001b[0;34m\u001b[0m\u001b[0;34m\u001b[0m\u001b[0m\n\u001b[0;32m--> 530\u001b[0;31m         \u001b[0mresp\u001b[0m \u001b[0;34m=\u001b[0m \u001b[0mself\u001b[0m\u001b[0;34m.\u001b[0m\u001b[0msend\u001b[0m\u001b[0;34m(\u001b[0m\u001b[0mprep\u001b[0m\u001b[0;34m,\u001b[0m \u001b[0;34m**\u001b[0m\u001b[0msend_kwargs\u001b[0m\u001b[0;34m)\u001b[0m\u001b[0;34m\u001b[0m\u001b[0;34m\u001b[0m\u001b[0m\n\u001b[0m\u001b[1;32m    531\u001b[0m \u001b[0;34m\u001b[0m\u001b[0m\n\u001b[1;32m    532\u001b[0m         \u001b[0;32mreturn\u001b[0m \u001b[0mresp\u001b[0m\u001b[0;34m\u001b[0m\u001b[0;34m\u001b[0m\u001b[0m\n",
            "\u001b[0;32m/usr/local/lib/python3.6/dist-packages/requests/sessions.py\u001b[0m in \u001b[0;36msend\u001b[0;34m(self, request, **kwargs)\u001b[0m\n\u001b[1;32m    641\u001b[0m \u001b[0;34m\u001b[0m\u001b[0m\n\u001b[1;32m    642\u001b[0m         \u001b[0;31m# Send the request\u001b[0m\u001b[0;34m\u001b[0m\u001b[0;34m\u001b[0m\u001b[0;34m\u001b[0m\u001b[0m\n\u001b[0;32m--> 643\u001b[0;31m         \u001b[0mr\u001b[0m \u001b[0;34m=\u001b[0m \u001b[0madapter\u001b[0m\u001b[0;34m.\u001b[0m\u001b[0msend\u001b[0m\u001b[0;34m(\u001b[0m\u001b[0mrequest\u001b[0m\u001b[0;34m,\u001b[0m \u001b[0;34m**\u001b[0m\u001b[0mkwargs\u001b[0m\u001b[0;34m)\u001b[0m\u001b[0;34m\u001b[0m\u001b[0;34m\u001b[0m\u001b[0m\n\u001b[0m\u001b[1;32m    644\u001b[0m \u001b[0;34m\u001b[0m\u001b[0m\n\u001b[1;32m    645\u001b[0m         \u001b[0;31m# Total elapsed time of the request (approximately)\u001b[0m\u001b[0;34m\u001b[0m\u001b[0;34m\u001b[0m\u001b[0;34m\u001b[0m\u001b[0m\n",
            "\u001b[0;32m/usr/local/lib/python3.6/dist-packages/requests/adapters.py\u001b[0m in \u001b[0;36msend\u001b[0;34m(self, request, stream, timeout, verify, cert, proxies)\u001b[0m\n\u001b[1;32m    447\u001b[0m                     \u001b[0mdecode_content\u001b[0m\u001b[0;34m=\u001b[0m\u001b[0;32mFalse\u001b[0m\u001b[0;34m,\u001b[0m\u001b[0;34m\u001b[0m\u001b[0;34m\u001b[0m\u001b[0m\n\u001b[1;32m    448\u001b[0m                     \u001b[0mretries\u001b[0m\u001b[0;34m=\u001b[0m\u001b[0mself\u001b[0m\u001b[0;34m.\u001b[0m\u001b[0mmax_retries\u001b[0m\u001b[0;34m,\u001b[0m\u001b[0;34m\u001b[0m\u001b[0;34m\u001b[0m\u001b[0m\n\u001b[0;32m--> 449\u001b[0;31m                     \u001b[0mtimeout\u001b[0m\u001b[0;34m=\u001b[0m\u001b[0mtimeout\u001b[0m\u001b[0;34m\u001b[0m\u001b[0;34m\u001b[0m\u001b[0m\n\u001b[0m\u001b[1;32m    450\u001b[0m                 )\n\u001b[1;32m    451\u001b[0m \u001b[0;34m\u001b[0m\u001b[0m\n",
            "\u001b[0;32m/usr/local/lib/python3.6/dist-packages/urllib3/connectionpool.py\u001b[0m in \u001b[0;36murlopen\u001b[0;34m(self, method, url, body, headers, retries, redirect, assert_same_host, timeout, pool_timeout, release_conn, chunked, body_pos, **response_kw)\u001b[0m\n\u001b[1;32m    598\u001b[0m                                                   \u001b[0mtimeout\u001b[0m\u001b[0;34m=\u001b[0m\u001b[0mtimeout_obj\u001b[0m\u001b[0;34m,\u001b[0m\u001b[0;34m\u001b[0m\u001b[0;34m\u001b[0m\u001b[0m\n\u001b[1;32m    599\u001b[0m                                                   \u001b[0mbody\u001b[0m\u001b[0;34m=\u001b[0m\u001b[0mbody\u001b[0m\u001b[0;34m,\u001b[0m \u001b[0mheaders\u001b[0m\u001b[0;34m=\u001b[0m\u001b[0mheaders\u001b[0m\u001b[0;34m,\u001b[0m\u001b[0;34m\u001b[0m\u001b[0;34m\u001b[0m\u001b[0m\n\u001b[0;32m--> 600\u001b[0;31m                                                   chunked=chunked)\n\u001b[0m\u001b[1;32m    601\u001b[0m \u001b[0;34m\u001b[0m\u001b[0m\n\u001b[1;32m    602\u001b[0m             \u001b[0;31m# If we're going to release the connection in ``finally:``, then\u001b[0m\u001b[0;34m\u001b[0m\u001b[0;34m\u001b[0m\u001b[0;34m\u001b[0m\u001b[0m\n",
            "\u001b[0;32m/usr/local/lib/python3.6/dist-packages/urllib3/connectionpool.py\u001b[0m in \u001b[0;36m_make_request\u001b[0;34m(self, conn, method, url, timeout, chunked, **httplib_request_kw)\u001b[0m\n\u001b[1;32m    378\u001b[0m             \u001b[0;32mexcept\u001b[0m \u001b[0mTypeError\u001b[0m\u001b[0;34m:\u001b[0m  \u001b[0;31m# Python 3\u001b[0m\u001b[0;34m\u001b[0m\u001b[0;34m\u001b[0m\u001b[0m\n\u001b[1;32m    379\u001b[0m                 \u001b[0;32mtry\u001b[0m\u001b[0;34m:\u001b[0m\u001b[0;34m\u001b[0m\u001b[0;34m\u001b[0m\u001b[0m\n\u001b[0;32m--> 380\u001b[0;31m                     \u001b[0mhttplib_response\u001b[0m \u001b[0;34m=\u001b[0m \u001b[0mconn\u001b[0m\u001b[0;34m.\u001b[0m\u001b[0mgetresponse\u001b[0m\u001b[0;34m(\u001b[0m\u001b[0;34m)\u001b[0m\u001b[0;34m\u001b[0m\u001b[0;34m\u001b[0m\u001b[0m\n\u001b[0m\u001b[1;32m    381\u001b[0m                 \u001b[0;32mexcept\u001b[0m \u001b[0mException\u001b[0m \u001b[0;32mas\u001b[0m \u001b[0me\u001b[0m\u001b[0;34m:\u001b[0m\u001b[0;34m\u001b[0m\u001b[0;34m\u001b[0m\u001b[0m\n\u001b[1;32m    382\u001b[0m                     \u001b[0;31m# Remove the TypeError from the exception chain in Python 3;\u001b[0m\u001b[0;34m\u001b[0m\u001b[0;34m\u001b[0m\u001b[0;34m\u001b[0m\u001b[0m\n",
            "\u001b[0;32m/usr/lib/python3.6/http/client.py\u001b[0m in \u001b[0;36mgetresponse\u001b[0;34m(self)\u001b[0m\n\u001b[1;32m   1354\u001b[0m         \u001b[0;32mtry\u001b[0m\u001b[0;34m:\u001b[0m\u001b[0;34m\u001b[0m\u001b[0;34m\u001b[0m\u001b[0m\n\u001b[1;32m   1355\u001b[0m             \u001b[0;32mtry\u001b[0m\u001b[0;34m:\u001b[0m\u001b[0;34m\u001b[0m\u001b[0;34m\u001b[0m\u001b[0m\n\u001b[0;32m-> 1356\u001b[0;31m                 \u001b[0mresponse\u001b[0m\u001b[0;34m.\u001b[0m\u001b[0mbegin\u001b[0m\u001b[0;34m(\u001b[0m\u001b[0;34m)\u001b[0m\u001b[0;34m\u001b[0m\u001b[0;34m\u001b[0m\u001b[0m\n\u001b[0m\u001b[1;32m   1357\u001b[0m             \u001b[0;32mexcept\u001b[0m \u001b[0mConnectionError\u001b[0m\u001b[0;34m:\u001b[0m\u001b[0;34m\u001b[0m\u001b[0;34m\u001b[0m\u001b[0m\n\u001b[1;32m   1358\u001b[0m                 \u001b[0mself\u001b[0m\u001b[0;34m.\u001b[0m\u001b[0mclose\u001b[0m\u001b[0;34m(\u001b[0m\u001b[0;34m)\u001b[0m\u001b[0;34m\u001b[0m\u001b[0;34m\u001b[0m\u001b[0m\n",
            "\u001b[0;32m/usr/lib/python3.6/http/client.py\u001b[0m in \u001b[0;36mbegin\u001b[0;34m(self)\u001b[0m\n\u001b[1;32m    305\u001b[0m         \u001b[0;31m# read until we get a non-100 response\u001b[0m\u001b[0;34m\u001b[0m\u001b[0;34m\u001b[0m\u001b[0;34m\u001b[0m\u001b[0m\n\u001b[1;32m    306\u001b[0m         \u001b[0;32mwhile\u001b[0m \u001b[0;32mTrue\u001b[0m\u001b[0;34m:\u001b[0m\u001b[0;34m\u001b[0m\u001b[0;34m\u001b[0m\u001b[0m\n\u001b[0;32m--> 307\u001b[0;31m             \u001b[0mversion\u001b[0m\u001b[0;34m,\u001b[0m \u001b[0mstatus\u001b[0m\u001b[0;34m,\u001b[0m \u001b[0mreason\u001b[0m \u001b[0;34m=\u001b[0m \u001b[0mself\u001b[0m\u001b[0;34m.\u001b[0m\u001b[0m_read_status\u001b[0m\u001b[0;34m(\u001b[0m\u001b[0;34m)\u001b[0m\u001b[0;34m\u001b[0m\u001b[0;34m\u001b[0m\u001b[0m\n\u001b[0m\u001b[1;32m    308\u001b[0m             \u001b[0;32mif\u001b[0m \u001b[0mstatus\u001b[0m \u001b[0;34m!=\u001b[0m \u001b[0mCONTINUE\u001b[0m\u001b[0;34m:\u001b[0m\u001b[0;34m\u001b[0m\u001b[0;34m\u001b[0m\u001b[0m\n\u001b[1;32m    309\u001b[0m                 \u001b[0;32mbreak\u001b[0m\u001b[0;34m\u001b[0m\u001b[0;34m\u001b[0m\u001b[0m\n",
            "\u001b[0;32m/usr/lib/python3.6/http/client.py\u001b[0m in \u001b[0;36m_read_status\u001b[0;34m(self)\u001b[0m\n\u001b[1;32m    266\u001b[0m \u001b[0;34m\u001b[0m\u001b[0m\n\u001b[1;32m    267\u001b[0m     \u001b[0;32mdef\u001b[0m \u001b[0m_read_status\u001b[0m\u001b[0;34m(\u001b[0m\u001b[0mself\u001b[0m\u001b[0;34m)\u001b[0m\u001b[0;34m:\u001b[0m\u001b[0;34m\u001b[0m\u001b[0;34m\u001b[0m\u001b[0m\n\u001b[0;32m--> 268\u001b[0;31m         \u001b[0mline\u001b[0m \u001b[0;34m=\u001b[0m \u001b[0mstr\u001b[0m\u001b[0;34m(\u001b[0m\u001b[0mself\u001b[0m\u001b[0;34m.\u001b[0m\u001b[0mfp\u001b[0m\u001b[0;34m.\u001b[0m\u001b[0mreadline\u001b[0m\u001b[0;34m(\u001b[0m\u001b[0m_MAXLINE\u001b[0m \u001b[0;34m+\u001b[0m \u001b[0;36m1\u001b[0m\u001b[0;34m)\u001b[0m\u001b[0;34m,\u001b[0m \u001b[0;34m\"iso-8859-1\"\u001b[0m\u001b[0;34m)\u001b[0m\u001b[0;34m\u001b[0m\u001b[0;34m\u001b[0m\u001b[0m\n\u001b[0m\u001b[1;32m    269\u001b[0m         \u001b[0;32mif\u001b[0m \u001b[0mlen\u001b[0m\u001b[0;34m(\u001b[0m\u001b[0mline\u001b[0m\u001b[0;34m)\u001b[0m \u001b[0;34m>\u001b[0m \u001b[0m_MAXLINE\u001b[0m\u001b[0;34m:\u001b[0m\u001b[0;34m\u001b[0m\u001b[0;34m\u001b[0m\u001b[0m\n\u001b[1;32m    270\u001b[0m             \u001b[0;32mraise\u001b[0m \u001b[0mLineTooLong\u001b[0m\u001b[0;34m(\u001b[0m\u001b[0;34m\"status line\"\u001b[0m\u001b[0;34m)\u001b[0m\u001b[0;34m\u001b[0m\u001b[0;34m\u001b[0m\u001b[0m\n",
            "\u001b[0;32m/usr/lib/python3.6/socket.py\u001b[0m in \u001b[0;36mreadinto\u001b[0;34m(self, b)\u001b[0m\n\u001b[1;32m    584\u001b[0m         \u001b[0;32mwhile\u001b[0m \u001b[0;32mTrue\u001b[0m\u001b[0;34m:\u001b[0m\u001b[0;34m\u001b[0m\u001b[0;34m\u001b[0m\u001b[0m\n\u001b[1;32m    585\u001b[0m             \u001b[0;32mtry\u001b[0m\u001b[0;34m:\u001b[0m\u001b[0;34m\u001b[0m\u001b[0;34m\u001b[0m\u001b[0m\n\u001b[0;32m--> 586\u001b[0;31m                 \u001b[0;32mreturn\u001b[0m \u001b[0mself\u001b[0m\u001b[0;34m.\u001b[0m\u001b[0m_sock\u001b[0m\u001b[0;34m.\u001b[0m\u001b[0mrecv_into\u001b[0m\u001b[0;34m(\u001b[0m\u001b[0mb\u001b[0m\u001b[0;34m)\u001b[0m\u001b[0;34m\u001b[0m\u001b[0;34m\u001b[0m\u001b[0m\n\u001b[0m\u001b[1;32m    587\u001b[0m             \u001b[0;32mexcept\u001b[0m \u001b[0mtimeout\u001b[0m\u001b[0;34m:\u001b[0m\u001b[0;34m\u001b[0m\u001b[0;34m\u001b[0m\u001b[0m\n\u001b[1;32m    588\u001b[0m                 \u001b[0mself\u001b[0m\u001b[0;34m.\u001b[0m\u001b[0m_timeout_occurred\u001b[0m \u001b[0;34m=\u001b[0m \u001b[0;32mTrue\u001b[0m\u001b[0;34m\u001b[0m\u001b[0;34m\u001b[0m\u001b[0m\n",
            "\u001b[0;32m/usr/lib/python3.6/ssl.py\u001b[0m in \u001b[0;36mrecv_into\u001b[0;34m(self, buffer, nbytes, flags)\u001b[0m\n\u001b[1;32m   1010\u001b[0m                   \u001b[0;34m\"non-zero flags not allowed in calls to recv_into() on %s\"\u001b[0m \u001b[0;34m%\u001b[0m\u001b[0;34m\u001b[0m\u001b[0;34m\u001b[0m\u001b[0m\n\u001b[1;32m   1011\u001b[0m                   self.__class__)\n\u001b[0;32m-> 1012\u001b[0;31m             \u001b[0;32mreturn\u001b[0m \u001b[0mself\u001b[0m\u001b[0;34m.\u001b[0m\u001b[0mread\u001b[0m\u001b[0;34m(\u001b[0m\u001b[0mnbytes\u001b[0m\u001b[0;34m,\u001b[0m \u001b[0mbuffer\u001b[0m\u001b[0;34m)\u001b[0m\u001b[0;34m\u001b[0m\u001b[0;34m\u001b[0m\u001b[0m\n\u001b[0m\u001b[1;32m   1013\u001b[0m         \u001b[0;32melse\u001b[0m\u001b[0;34m:\u001b[0m\u001b[0;34m\u001b[0m\u001b[0;34m\u001b[0m\u001b[0m\n\u001b[1;32m   1014\u001b[0m             \u001b[0;32mreturn\u001b[0m \u001b[0msocket\u001b[0m\u001b[0;34m.\u001b[0m\u001b[0mrecv_into\u001b[0m\u001b[0;34m(\u001b[0m\u001b[0mself\u001b[0m\u001b[0;34m,\u001b[0m \u001b[0mbuffer\u001b[0m\u001b[0;34m,\u001b[0m \u001b[0mnbytes\u001b[0m\u001b[0;34m,\u001b[0m \u001b[0mflags\u001b[0m\u001b[0;34m)\u001b[0m\u001b[0;34m\u001b[0m\u001b[0;34m\u001b[0m\u001b[0m\n",
            "\u001b[0;32m/usr/lib/python3.6/ssl.py\u001b[0m in \u001b[0;36mread\u001b[0;34m(self, len, buffer)\u001b[0m\n\u001b[1;32m    872\u001b[0m             \u001b[0;32mraise\u001b[0m \u001b[0mValueError\u001b[0m\u001b[0;34m(\u001b[0m\u001b[0;34m\"Read on closed or unwrapped SSL socket.\"\u001b[0m\u001b[0;34m)\u001b[0m\u001b[0;34m\u001b[0m\u001b[0;34m\u001b[0m\u001b[0m\n\u001b[1;32m    873\u001b[0m         \u001b[0;32mtry\u001b[0m\u001b[0;34m:\u001b[0m\u001b[0;34m\u001b[0m\u001b[0;34m\u001b[0m\u001b[0m\n\u001b[0;32m--> 874\u001b[0;31m             \u001b[0;32mreturn\u001b[0m \u001b[0mself\u001b[0m\u001b[0;34m.\u001b[0m\u001b[0m_sslobj\u001b[0m\u001b[0;34m.\u001b[0m\u001b[0mread\u001b[0m\u001b[0;34m(\u001b[0m\u001b[0mlen\u001b[0m\u001b[0;34m,\u001b[0m \u001b[0mbuffer\u001b[0m\u001b[0;34m)\u001b[0m\u001b[0;34m\u001b[0m\u001b[0;34m\u001b[0m\u001b[0m\n\u001b[0m\u001b[1;32m    875\u001b[0m         \u001b[0;32mexcept\u001b[0m \u001b[0mSSLError\u001b[0m \u001b[0;32mas\u001b[0m \u001b[0mx\u001b[0m\u001b[0;34m:\u001b[0m\u001b[0;34m\u001b[0m\u001b[0;34m\u001b[0m\u001b[0m\n\u001b[1;32m    876\u001b[0m             \u001b[0;32mif\u001b[0m \u001b[0mx\u001b[0m\u001b[0;34m.\u001b[0m\u001b[0margs\u001b[0m\u001b[0;34m[\u001b[0m\u001b[0;36m0\u001b[0m\u001b[0;34m]\u001b[0m \u001b[0;34m==\u001b[0m \u001b[0mSSL_ERROR_EOF\u001b[0m \u001b[0;32mand\u001b[0m \u001b[0mself\u001b[0m\u001b[0;34m.\u001b[0m\u001b[0msuppress_ragged_eofs\u001b[0m\u001b[0;34m:\u001b[0m\u001b[0;34m\u001b[0m\u001b[0;34m\u001b[0m\u001b[0m\n",
            "\u001b[0;32m/usr/lib/python3.6/ssl.py\u001b[0m in \u001b[0;36mread\u001b[0;34m(self, len, buffer)\u001b[0m\n\u001b[1;32m    629\u001b[0m         \"\"\"\n\u001b[1;32m    630\u001b[0m         \u001b[0;32mif\u001b[0m \u001b[0mbuffer\u001b[0m \u001b[0;32mis\u001b[0m \u001b[0;32mnot\u001b[0m \u001b[0;32mNone\u001b[0m\u001b[0;34m:\u001b[0m\u001b[0;34m\u001b[0m\u001b[0;34m\u001b[0m\u001b[0m\n\u001b[0;32m--> 631\u001b[0;31m             \u001b[0mv\u001b[0m \u001b[0;34m=\u001b[0m \u001b[0mself\u001b[0m\u001b[0;34m.\u001b[0m\u001b[0m_sslobj\u001b[0m\u001b[0;34m.\u001b[0m\u001b[0mread\u001b[0m\u001b[0;34m(\u001b[0m\u001b[0mlen\u001b[0m\u001b[0;34m,\u001b[0m \u001b[0mbuffer\u001b[0m\u001b[0;34m)\u001b[0m\u001b[0;34m\u001b[0m\u001b[0;34m\u001b[0m\u001b[0m\n\u001b[0m\u001b[1;32m    632\u001b[0m         \u001b[0;32melse\u001b[0m\u001b[0;34m:\u001b[0m\u001b[0;34m\u001b[0m\u001b[0;34m\u001b[0m\u001b[0m\n\u001b[1;32m    633\u001b[0m             \u001b[0mv\u001b[0m \u001b[0;34m=\u001b[0m \u001b[0mself\u001b[0m\u001b[0;34m.\u001b[0m\u001b[0m_sslobj\u001b[0m\u001b[0;34m.\u001b[0m\u001b[0mread\u001b[0m\u001b[0;34m(\u001b[0m\u001b[0mlen\u001b[0m\u001b[0;34m)\u001b[0m\u001b[0;34m\u001b[0m\u001b[0;34m\u001b[0m\u001b[0m\n",
            "\u001b[0;31mKeyboardInterrupt\u001b[0m: "
          ]
        }
      ]
    },
    {
      "cell_type": "code",
      "metadata": {
        "id": "pJ6sFYuHC7nH",
        "colab_type": "code",
        "colab": {}
      },
      "source": [
        "list_tweets_final=list(map(cleanTxt,list_tweets_final))"
      ],
      "execution_count": 45,
      "outputs": []
    },
    {
      "cell_type": "code",
      "metadata": {
        "id": "qNo7BUSrR4ug",
        "colab_type": "code",
        "colab": {
          "base_uri": "https://localhost:8080/",
          "height": 34
        },
        "outputId": "24442bef-9292-442b-d59a-a5abd4deb3d1"
      },
      "source": [
        "print (len (list_tweets_final))"
      ],
      "execution_count": 46,
      "outputs": [
        {
          "output_type": "stream",
          "text": [
            "82468\n"
          ],
          "name": "stdout"
        }
      ]
    },
    {
      "cell_type": "code",
      "metadata": {
        "id": "PJgnZHHcIE8K",
        "colab_type": "code",
        "colab": {}
      },
      "source": [
        "data_tweets=pd.DataFrame(list_tweets_final,columns=[\"Tweets\"])"
      ],
      "execution_count": 47,
      "outputs": []
    },
    {
      "cell_type": "code",
      "metadata": {
        "id": "TEawH-R7H4pv",
        "colab_type": "code",
        "colab": {
          "base_uri": "https://localhost:8080/",
          "height": 204
        },
        "outputId": "c57abcdc-181d-4980-fe12-9c0603bb84bd"
      },
      "source": [
        "data_tweets.head()"
      ],
      "execution_count": 48,
      "outputs": [
        {
          "output_type": "execute_result",
          "data": {
            "text/html": [
              "<div>\n",
              "<style scoped>\n",
              "    .dataframe tbody tr th:only-of-type {\n",
              "        vertical-align: middle;\n",
              "    }\n",
              "\n",
              "    .dataframe tbody tr th {\n",
              "        vertical-align: top;\n",
              "    }\n",
              "\n",
              "    .dataframe thead th {\n",
              "        text-align: right;\n",
              "    }\n",
              "</style>\n",
              "<table border=\"1\" class=\"dataframe\">\n",
              "  <thead>\n",
              "    <tr style=\"text-align: right;\">\n",
              "      <th></th>\n",
              "      <th>Tweets</th>\n",
              "    </tr>\n",
              "  </thead>\n",
              "  <tbody>\n",
              "    <tr>\n",
              "      <th>0</th>\n",
              "      <td>Wuhan has been in complete quarantine for over...</td>\n",
              "    </tr>\n",
              "    <tr>\n",
              "      <th>1</th>\n",
              "      <td>here’s a deleted scene from TWD’s special on ...</td>\n",
              "    </tr>\n",
              "    <tr>\n",
              "      <th>2</th>\n",
              "      <td>You can no longer defend this.Make up any exc...</td>\n",
              "    </tr>\n",
              "    <tr>\n",
              "      <th>3</th>\n",
              "      <td>Pretty much any corona virus germ that wants t...</td>\n",
              "    </tr>\n",
              "    <tr>\n",
              "      <th>4</th>\n",
              "      <td>Good.It came from China.</td>\n",
              "    </tr>\n",
              "  </tbody>\n",
              "</table>\n",
              "</div>"
            ],
            "text/plain": [
              "                                              Tweets\n",
              "0  Wuhan has been in complete quarantine for over...\n",
              "1   here’s a deleted scene from TWD’s special on ...\n",
              "2   You can no longer defend this.Make up any exc...\n",
              "3  Pretty much any corona virus germ that wants t...\n",
              "4                           Good.It came from China."
            ]
          },
          "metadata": {
            "tags": []
          },
          "execution_count": 48
        }
      ]
    },
    {
      "cell_type": "code",
      "metadata": {
        "id": "5FseUw8-IMlN",
        "colab_type": "code",
        "colab": {}
      },
      "source": [
        "data_tweets.to_csv(\"data_1.csv\", index=False, header=None)"
      ],
      "execution_count": 49,
      "outputs": []
    },
    {
      "cell_type": "code",
      "metadata": {
        "id": "548NmbVc8G2v",
        "colab_type": "code",
        "colab": {}
      },
      "source": [
        ""
      ],
      "execution_count": null,
      "outputs": []
    },
    {
      "cell_type": "code",
      "metadata": {
        "id": "ysKVHDMvOk3q",
        "colab_type": "code",
        "colab": {}
      },
      "source": [
        "import tweepy\n",
        "from textblob import TextBlob\n",
        "from wordcloud import WordCloud\n",
        "import pandas as pd\n",
        "import numpy as np\n",
        "import re\n",
        "import matplotlib.pyplot as plt\n",
        "plt.style.use('fivethirtyeight')"
      ],
      "execution_count": 50,
      "outputs": []
    },
    {
      "cell_type": "code",
      "metadata": {
        "id": "qSSB_mmkMa-I",
        "colab_type": "code",
        "colab": {
          "base_uri": "https://localhost:8080/",
          "height": 419
        },
        "outputId": "18771cb6-7b51-471e-beaa-0a2a204e4b04"
      },
      "source": [
        "# Create a function to get the subjectivity\n",
        "def getSubjectivity(text):\n",
        "   return TextBlob(text).sentiment.subjectivity\n",
        "\n",
        "# Create a function to get the polarity\n",
        "def getPolarity(text):\n",
        "   return  TextBlob(text).sentiment.polarity\n",
        "\n",
        "\n",
        "# Create two new columns 'Subjectivity' & 'Polarity'\n",
        "data_tweets['Subjectivity'] = data_tweets['Tweets'].apply(getSubjectivity)\n",
        "data_tweets['Polarity'] = data_tweets['Tweets'].apply(getPolarity)\n",
        "\n",
        "# Show the new dataframe with columns 'Subjectivity' & 'Polarity'\n",
        "data_tweets\n"
      ],
      "execution_count": 51,
      "outputs": [
        {
          "output_type": "execute_result",
          "data": {
            "text/html": [
              "<div>\n",
              "<style scoped>\n",
              "    .dataframe tbody tr th:only-of-type {\n",
              "        vertical-align: middle;\n",
              "    }\n",
              "\n",
              "    .dataframe tbody tr th {\n",
              "        vertical-align: top;\n",
              "    }\n",
              "\n",
              "    .dataframe thead th {\n",
              "        text-align: right;\n",
              "    }\n",
              "</style>\n",
              "<table border=\"1\" class=\"dataframe\">\n",
              "  <thead>\n",
              "    <tr style=\"text-align: right;\">\n",
              "      <th></th>\n",
              "      <th>Tweets</th>\n",
              "      <th>Subjectivity</th>\n",
              "      <th>Polarity</th>\n",
              "    </tr>\n",
              "  </thead>\n",
              "  <tbody>\n",
              "    <tr>\n",
              "      <th>0</th>\n",
              "      <td>Wuhan has been in complete quarantine for over...</td>\n",
              "      <td>0.387500</td>\n",
              "      <td>0.116071</td>\n",
              "    </tr>\n",
              "    <tr>\n",
              "      <th>1</th>\n",
              "      <td>here’s a deleted scene from TWD’s special on ...</td>\n",
              "      <td>0.571429</td>\n",
              "      <td>0.357143</td>\n",
              "    </tr>\n",
              "    <tr>\n",
              "      <th>2</th>\n",
              "      <td>You can no longer defend this.Make up any exc...</td>\n",
              "      <td>0.050000</td>\n",
              "      <td>-0.050000</td>\n",
              "    </tr>\n",
              "    <tr>\n",
              "      <th>3</th>\n",
              "      <td>Pretty much any corona virus germ that wants t...</td>\n",
              "      <td>0.433333</td>\n",
              "      <td>0.216667</td>\n",
              "    </tr>\n",
              "    <tr>\n",
              "      <th>4</th>\n",
              "      <td>Good.It came from China.</td>\n",
              "      <td>0.000000</td>\n",
              "      <td>0.000000</td>\n",
              "    </tr>\n",
              "    <tr>\n",
              "      <th>...</th>\n",
              "      <td>...</td>\n",
              "      <td>...</td>\n",
              "      <td>...</td>\n",
              "    </tr>\n",
              "    <tr>\n",
              "      <th>82463</th>\n",
              "      <td>Great shot  . A picture is worth . . .</td>\n",
              "      <td>0.425000</td>\n",
              "      <td>0.550000</td>\n",
              "    </tr>\n",
              "    <tr>\n",
              "      <th>82464</th>\n",
              "      <td>Lol what a douchebag</td>\n",
              "      <td>0.700000</td>\n",
              "      <td>0.800000</td>\n",
              "    </tr>\n",
              "    <tr>\n",
              "      <th>82465</th>\n",
              "      <td>This is for CORONA  you big fat white nasty s...</td>\n",
              "      <td>0.366667</td>\n",
              "      <td>-0.333333</td>\n",
              "    </tr>\n",
              "    <tr>\n",
              "      <th>82466</th>\n",
              "      <td>Day 5 We have rediscovered farming</td>\n",
              "      <td>0.000000</td>\n",
              "      <td>0.000000</td>\n",
              "    </tr>\n",
              "    <tr>\n",
              "      <th>82467</th>\n",
              "      <td>i hope this corona shit blow over before tauru...</td>\n",
              "      <td>0.800000</td>\n",
              "      <td>-0.200000</td>\n",
              "    </tr>\n",
              "  </tbody>\n",
              "</table>\n",
              "<p>82468 rows × 3 columns</p>\n",
              "</div>"
            ],
            "text/plain": [
              "                                                  Tweets  ...  Polarity\n",
              "0      Wuhan has been in complete quarantine for over...  ...  0.116071\n",
              "1       here’s a deleted scene from TWD’s special on ...  ...  0.357143\n",
              "2       You can no longer defend this.Make up any exc...  ... -0.050000\n",
              "3      Pretty much any corona virus germ that wants t...  ...  0.216667\n",
              "4                               Good.It came from China.  ...  0.000000\n",
              "...                                                  ...  ...       ...\n",
              "82463           Great shot  . A picture is worth . . .    ...  0.550000\n",
              "82464                              Lol what a douchebag   ...  0.800000\n",
              "82465   This is for CORONA  you big fat white nasty s...  ... -0.333333\n",
              "82466                 Day 5 We have rediscovered farming  ...  0.000000\n",
              "82467  i hope this corona shit blow over before tauru...  ... -0.200000\n",
              "\n",
              "[82468 rows x 3 columns]"
            ]
          },
          "metadata": {
            "tags": []
          },
          "execution_count": 51
        }
      ]
    },
    {
      "cell_type": "code",
      "metadata": {
        "id": "iAmG67TecnYu",
        "colab_type": "code",
        "colab": {}
      },
      "source": [
        "reviews = np.array(data_tweets['Tweets'])\n"
      ],
      "execution_count": 52,
      "outputs": []
    },
    {
      "cell_type": "code",
      "metadata": {
        "id": "XrHnw1KVOgUV",
        "colab_type": "code",
        "colab": {
          "base_uri": "https://localhost:8080/",
          "height": 256
        },
        "outputId": "33e5e666-3598-4e71-b50c-3669e48a9211"
      },
      "source": [
        "# word cloud visualization\n",
        "allWords = ' '.join([twts for twts in data_tweets['Tweets']])\n",
        "wordCloud = WordCloud(width=500, height=300, random_state=21, max_font_size=110).generate(allWords)\n",
        "\n",
        "\n",
        "plt.imshow(wordCloud, interpolation=\"bilinear\")\n",
        "plt.axis('off')\n",
        "plt.show()"
      ],
      "execution_count": 53,
      "outputs": [
        {
          "output_type": "display_data",
          "data": {
            "image/png": "[encoded data removed]",
            "text/plain": [
              "<Figure size 432x288 with 1 Axes>"
            ]
          },
          "metadata": {
            "tags": []
          }
        }
      ]
    },
    {
      "cell_type": "code",
      "metadata": {
        "id": "1WQgCpbEPSJX",
        "colab_type": "code",
        "colab": {
          "base_uri": "https://localhost:8080/",
          "height": 419
        },
        "outputId": "971ff8ec-35c2-4936-a3fd-1a217d02e2ec"
      },
      "source": [
        "# Create a function to compute negative (-1), neutral (0) and positive (+1) analysis\n",
        "def getAnalysis(score):\n",
        "  if score < 0:\n",
        "    return 'Negative'\n",
        "  elif score == 0:\n",
        "    return 'Neutral'\n",
        "  else:\n",
        "    return 'Positive'\n",
        "data_tweets['Analysis'] = data_tweets['Polarity'].apply(getAnalysis)\n",
        "# Show the dataframe\n",
        "data_tweets\n"
      ],
      "execution_count": 54,
      "outputs": [
        {
          "output_type": "execute_result",
          "data": {
            "text/html": [
              "<div>\n",
              "<style scoped>\n",
              "    .dataframe tbody tr th:only-of-type {\n",
              "        vertical-align: middle;\n",
              "    }\n",
              "\n",
              "    .dataframe tbody tr th {\n",
              "        vertical-align: top;\n",
              "    }\n",
              "\n",
              "    .dataframe thead th {\n",
              "        text-align: right;\n",
              "    }\n",
              "</style>\n",
              "<table border=\"1\" class=\"dataframe\">\n",
              "  <thead>\n",
              "    <tr style=\"text-align: right;\">\n",
              "      <th></th>\n",
              "      <th>Tweets</th>\n",
              "      <th>Subjectivity</th>\n",
              "      <th>Polarity</th>\n",
              "      <th>Analysis</th>\n",
              "    </tr>\n",
              "  </thead>\n",
              "  <tbody>\n",
              "    <tr>\n",
              "      <th>0</th>\n",
              "      <td>Wuhan has been in complete quarantine for over...</td>\n",
              "      <td>0.387500</td>\n",
              "      <td>0.116071</td>\n",
              "      <td>Positive</td>\n",
              "    </tr>\n",
              "    <tr>\n",
              "      <th>1</th>\n",
              "      <td>here’s a deleted scene from TWD’s special on ...</td>\n",
              "      <td>0.571429</td>\n",
              "      <td>0.357143</td>\n",
              "      <td>Positive</td>\n",
              "    </tr>\n",
              "    <tr>\n",
              "      <th>2</th>\n",
              "      <td>You can no longer defend this.Make up any exc...</td>\n",
              "      <td>0.050000</td>\n",
              "      <td>-0.050000</td>\n",
              "      <td>Negative</td>\n",
              "    </tr>\n",
              "    <tr>\n",
              "      <th>3</th>\n",
              "      <td>Pretty much any corona virus germ that wants t...</td>\n",
              "      <td>0.433333</td>\n",
              "      <td>0.216667</td>\n",
              "      <td>Positive</td>\n",
              "    </tr>\n",
              "    <tr>\n",
              "      <th>4</th>\n",
              "      <td>Good.It came from China.</td>\n",
              "      <td>0.000000</td>\n",
              "      <td>0.000000</td>\n",
              "      <td>Neutral</td>\n",
              "    </tr>\n",
              "    <tr>\n",
              "      <th>...</th>\n",
              "      <td>...</td>\n",
              "      <td>...</td>\n",
              "      <td>...</td>\n",
              "      <td>...</td>\n",
              "    </tr>\n",
              "    <tr>\n",
              "      <th>82463</th>\n",
              "      <td>Great shot  . A picture is worth . . .</td>\n",
              "      <td>0.425000</td>\n",
              "      <td>0.550000</td>\n",
              "      <td>Positive</td>\n",
              "    </tr>\n",
              "    <tr>\n",
              "      <th>82464</th>\n",
              "      <td>Lol what a douchebag</td>\n",
              "      <td>0.700000</td>\n",
              "      <td>0.800000</td>\n",
              "      <td>Positive</td>\n",
              "    </tr>\n",
              "    <tr>\n",
              "      <th>82465</th>\n",
              "      <td>This is for CORONA  you big fat white nasty s...</td>\n",
              "      <td>0.366667</td>\n",
              "      <td>-0.333333</td>\n",
              "      <td>Negative</td>\n",
              "    </tr>\n",
              "    <tr>\n",
              "      <th>82466</th>\n",
              "      <td>Day 5 We have rediscovered farming</td>\n",
              "      <td>0.000000</td>\n",
              "      <td>0.000000</td>\n",
              "      <td>Neutral</td>\n",
              "    </tr>\n",
              "    <tr>\n",
              "      <th>82467</th>\n",
              "      <td>i hope this corona shit blow over before tauru...</td>\n",
              "      <td>0.800000</td>\n",
              "      <td>-0.200000</td>\n",
              "      <td>Negative</td>\n",
              "    </tr>\n",
              "  </tbody>\n",
              "</table>\n",
              "<p>82468 rows × 4 columns</p>\n",
              "</div>"
            ],
            "text/plain": [
              "                                                  Tweets  ...  Analysis\n",
              "0      Wuhan has been in complete quarantine for over...  ...  Positive\n",
              "1       here’s a deleted scene from TWD’s special on ...  ...  Positive\n",
              "2       You can no longer defend this.Make up any exc...  ...  Negative\n",
              "3      Pretty much any corona virus germ that wants t...  ...  Positive\n",
              "4                               Good.It came from China.  ...   Neutral\n",
              "...                                                  ...  ...       ...\n",
              "82463           Great shot  . A picture is worth . . .    ...  Positive\n",
              "82464                              Lol what a douchebag   ...  Positive\n",
              "82465   This is for CORONA  you big fat white nasty s...  ...  Negative\n",
              "82466                 Day 5 We have rediscovered farming  ...   Neutral\n",
              "82467  i hope this corona shit blow over before tauru...  ...  Negative\n",
              "\n",
              "[82468 rows x 4 columns]"
            ]
          },
          "metadata": {
            "tags": []
          },
          "execution_count": 54
        }
      ]
    },
    {
      "cell_type": "code",
      "metadata": {
        "id": "uR13d-27dPmT",
        "colab_type": "code",
        "colab": {}
      },
      "source": [
        "labels=np.array(data_tweets['Analysis'])\n"
      ],
      "execution_count": 55,
      "outputs": []
    },
    {
      "cell_type": "code",
      "metadata": {
        "id": "BjeZBcPkdZad",
        "colab_type": "code",
        "colab": {
          "base_uri": "https://localhost:8080/",
          "height": 35
        },
        "outputId": "c684c5e1-6211-4af4-8a01-8a43086c3e48"
      },
      "source": [
        "data_tweets['Tweets'].loc[1]\n",
        "\n"
      ],
      "execution_count": 56,
      "outputs": [
        {
          "output_type": "execute_result",
          "data": {
            "application/vnd.google.colaboratory.intrinsic": {
              "type": "string"
            },
            "text/plain": [
              "' here’s a deleted scene from TWD’s special on corona virus '"
            ]
          },
          "metadata": {
            "tags": []
          },
          "execution_count": 56
        }
      ]
    },
    {
      "cell_type": "code",
      "metadata": {
        "id": "J7rndTDW_wWm",
        "colab_type": "code",
        "colab": {
          "base_uri": "https://localhost:8080/",
          "height": 35
        },
        "outputId": "48acdc84-7f0d-40e4-9151-6d9b813a2d2a"
      },
      "source": [
        "data_tweets['Analysis'].loc[1]"
      ],
      "execution_count": 57,
      "outputs": [
        {
          "output_type": "execute_result",
          "data": {
            "application/vnd.google.colaboratory.intrinsic": {
              "type": "string"
            },
            "text/plain": [
              "'Positive'"
            ]
          },
          "metadata": {
            "tags": []
          },
          "execution_count": 57
        }
      ]
    },
    {
      "cell_type": "code",
      "metadata": {
        "id": "zmmqrVQePeC3",
        "colab_type": "code",
        "colab": {
          "base_uri": "https://localhost:8080/",
          "height": 755
        },
        "outputId": "bacdb572-c532-4f71-9052-a0a047fe0acc"
      },
      "source": [
        "# Plotting \n",
        "plt.figure(figsize=(8,6)) \n",
        "for i in range(0, data_tweets.shape[0]):\n",
        "  plt.scatter(data_tweets[\"Polarity\"][i], data_tweets[\"Subjectivity\"][i], color='Blue') \n",
        "# plt.scatter(x,y,color)   \n",
        "plt.title('Sentiment Analysis') \n",
        "plt.xlabel('Polarity') \n",
        "plt.ylabel('Subjectivity') \n",
        "plt.show()"
      ],
      "execution_count": 58,
      "outputs": [
        {
          "output_type": "error",
          "ename": "KeyboardInterrupt",
          "evalue": "ignored",
          "traceback": [
            "\u001b[0;31m---------------------------------------------------------------------------\u001b[0m",
            "\u001b[0;31mKeyboardInterrupt\u001b[0m                         Traceback (most recent call last)",
            "\u001b[0;32m<ipython-input-58-81cbbafed5f4>\u001b[0m in \u001b[0;36m<module>\u001b[0;34m()\u001b[0m\n\u001b[1;32m      2\u001b[0m \u001b[0mplt\u001b[0m\u001b[0;34m.\u001b[0m\u001b[0mfigure\u001b[0m\u001b[0;34m(\u001b[0m\u001b[0mfigsize\u001b[0m\u001b[0;34m=\u001b[0m\u001b[0;34m(\u001b[0m\u001b[0;36m8\u001b[0m\u001b[0;34m,\u001b[0m\u001b[0;36m6\u001b[0m\u001b[0;34m)\u001b[0m\u001b[0;34m)\u001b[0m\u001b[0;34m\u001b[0m\u001b[0;34m\u001b[0m\u001b[0m\n\u001b[1;32m      3\u001b[0m \u001b[0;32mfor\u001b[0m \u001b[0mi\u001b[0m \u001b[0;32min\u001b[0m \u001b[0mrange\u001b[0m\u001b[0;34m(\u001b[0m\u001b[0;36m0\u001b[0m\u001b[0;34m,\u001b[0m \u001b[0mdata_tweets\u001b[0m\u001b[0;34m.\u001b[0m\u001b[0mshape\u001b[0m\u001b[0;34m[\u001b[0m\u001b[0;36m0\u001b[0m\u001b[0;34m]\u001b[0m\u001b[0;34m)\u001b[0m\u001b[0;34m:\u001b[0m\u001b[0;34m\u001b[0m\u001b[0;34m\u001b[0m\u001b[0m\n\u001b[0;32m----> 4\u001b[0;31m   \u001b[0mplt\u001b[0m\u001b[0;34m.\u001b[0m\u001b[0mscatter\u001b[0m\u001b[0;34m(\u001b[0m\u001b[0mdata_tweets\u001b[0m\u001b[0;34m[\u001b[0m\u001b[0;34m\"Polarity\"\u001b[0m\u001b[0;34m]\u001b[0m\u001b[0;34m[\u001b[0m\u001b[0mi\u001b[0m\u001b[0;34m]\u001b[0m\u001b[0;34m,\u001b[0m \u001b[0mdata_tweets\u001b[0m\u001b[0;34m[\u001b[0m\u001b[0;34m\"Subjectivity\"\u001b[0m\u001b[0;34m]\u001b[0m\u001b[0;34m[\u001b[0m\u001b[0mi\u001b[0m\u001b[0;34m]\u001b[0m\u001b[0;34m,\u001b[0m \u001b[0mcolor\u001b[0m\u001b[0;34m=\u001b[0m\u001b[0;34m'Blue'\u001b[0m\u001b[0;34m)\u001b[0m\u001b[0;34m\u001b[0m\u001b[0;34m\u001b[0m\u001b[0m\n\u001b[0m\u001b[1;32m      5\u001b[0m \u001b[0;31m# plt.scatter(x,y,color)\u001b[0m\u001b[0;34m\u001b[0m\u001b[0;34m\u001b[0m\u001b[0;34m\u001b[0m\u001b[0m\n\u001b[1;32m      6\u001b[0m \u001b[0mplt\u001b[0m\u001b[0;34m.\u001b[0m\u001b[0mtitle\u001b[0m\u001b[0;34m(\u001b[0m\u001b[0;34m'Sentiment Analysis'\u001b[0m\u001b[0;34m)\u001b[0m\u001b[0;34m\u001b[0m\u001b[0;34m\u001b[0m\u001b[0m\n",
            "\u001b[0;32m/usr/local/lib/python3.6/dist-packages/matplotlib/pyplot.py\u001b[0m in \u001b[0;36mscatter\u001b[0;34m(x, y, s, c, marker, cmap, norm, vmin, vmax, alpha, linewidths, verts, edgecolors, plotnonfinite, data, **kwargs)\u001b[0m\n\u001b[1;32m   2814\u001b[0m         \u001b[0mverts\u001b[0m\u001b[0;34m=\u001b[0m\u001b[0mverts\u001b[0m\u001b[0;34m,\u001b[0m \u001b[0medgecolors\u001b[0m\u001b[0;34m=\u001b[0m\u001b[0medgecolors\u001b[0m\u001b[0;34m,\u001b[0m\u001b[0;34m\u001b[0m\u001b[0;34m\u001b[0m\u001b[0m\n\u001b[1;32m   2815\u001b[0m         plotnonfinite=plotnonfinite, **({\"data\": data} if data is not\n\u001b[0;32m-> 2816\u001b[0;31m         None else {}), **kwargs)\n\u001b[0m\u001b[1;32m   2817\u001b[0m     \u001b[0msci\u001b[0m\u001b[0;34m(\u001b[0m\u001b[0m__ret\u001b[0m\u001b[0;34m)\u001b[0m\u001b[0;34m\u001b[0m\u001b[0;34m\u001b[0m\u001b[0m\n\u001b[1;32m   2818\u001b[0m     \u001b[0;32mreturn\u001b[0m \u001b[0m__ret\u001b[0m\u001b[0;34m\u001b[0m\u001b[0;34m\u001b[0m\u001b[0m\n",
            "\u001b[0;32m/usr/local/lib/python3.6/dist-packages/matplotlib/__init__.py\u001b[0m in \u001b[0;36minner\u001b[0;34m(ax, data, *args, **kwargs)\u001b[0m\n\u001b[1;32m   1563\u001b[0m     \u001b[0;32mdef\u001b[0m \u001b[0minner\u001b[0m\u001b[0;34m(\u001b[0m\u001b[0max\u001b[0m\u001b[0;34m,\u001b[0m \u001b[0;34m*\u001b[0m\u001b[0margs\u001b[0m\u001b[0;34m,\u001b[0m \u001b[0mdata\u001b[0m\u001b[0;34m=\u001b[0m\u001b[0;32mNone\u001b[0m\u001b[0;34m,\u001b[0m \u001b[0;34m**\u001b[0m\u001b[0mkwargs\u001b[0m\u001b[0;34m)\u001b[0m\u001b[0;34m:\u001b[0m\u001b[0;34m\u001b[0m\u001b[0;34m\u001b[0m\u001b[0m\n\u001b[1;32m   1564\u001b[0m         \u001b[0;32mif\u001b[0m \u001b[0mdata\u001b[0m \u001b[0;32mis\u001b[0m \u001b[0;32mNone\u001b[0m\u001b[0;34m:\u001b[0m\u001b[0;34m\u001b[0m\u001b[0;34m\u001b[0m\u001b[0m\n\u001b[0;32m-> 1565\u001b[0;31m             \u001b[0;32mreturn\u001b[0m \u001b[0mfunc\u001b[0m\u001b[0;34m(\u001b[0m\u001b[0max\u001b[0m\u001b[0;34m,\u001b[0m \u001b[0;34m*\u001b[0m\u001b[0mmap\u001b[0m\u001b[0;34m(\u001b[0m\u001b[0msanitize_sequence\u001b[0m\u001b[0;34m,\u001b[0m \u001b[0margs\u001b[0m\u001b[0;34m)\u001b[0m\u001b[0;34m,\u001b[0m \u001b[0;34m**\u001b[0m\u001b[0mkwargs\u001b[0m\u001b[0;34m)\u001b[0m\u001b[0;34m\u001b[0m\u001b[0;34m\u001b[0m\u001b[0m\n\u001b[0m\u001b[1;32m   1566\u001b[0m \u001b[0;34m\u001b[0m\u001b[0m\n\u001b[1;32m   1567\u001b[0m         \u001b[0mbound\u001b[0m \u001b[0;34m=\u001b[0m \u001b[0mnew_sig\u001b[0m\u001b[0;34m.\u001b[0m\u001b[0mbind\u001b[0m\u001b[0;34m(\u001b[0m\u001b[0max\u001b[0m\u001b[0;34m,\u001b[0m \u001b[0;34m*\u001b[0m\u001b[0margs\u001b[0m\u001b[0;34m,\u001b[0m \u001b[0;34m**\u001b[0m\u001b[0mkwargs\u001b[0m\u001b[0;34m)\u001b[0m\u001b[0;34m\u001b[0m\u001b[0;34m\u001b[0m\u001b[0m\n",
            "\u001b[0;32m/usr/local/lib/python3.6/dist-packages/matplotlib/cbook/deprecation.py\u001b[0m in \u001b[0;36mwrapper\u001b[0;34m(*args, **kwargs)\u001b[0m\n\u001b[1;32m    356\u001b[0m                 \u001b[0;34mf\"%(removal)s.  If any parameter follows {name!r}, they \"\u001b[0m\u001b[0;34m\u001b[0m\u001b[0;34m\u001b[0m\u001b[0m\n\u001b[1;32m    357\u001b[0m                 f\"should be pass as keyword, not positionally.\")\n\u001b[0;32m--> 358\u001b[0;31m         \u001b[0;32mreturn\u001b[0m \u001b[0mfunc\u001b[0m\u001b[0;34m(\u001b[0m\u001b[0;34m*\u001b[0m\u001b[0margs\u001b[0m\u001b[0;34m,\u001b[0m \u001b[0;34m**\u001b[0m\u001b[0mkwargs\u001b[0m\u001b[0;34m)\u001b[0m\u001b[0;34m\u001b[0m\u001b[0;34m\u001b[0m\u001b[0m\n\u001b[0m\u001b[1;32m    359\u001b[0m \u001b[0;34m\u001b[0m\u001b[0m\n\u001b[1;32m    360\u001b[0m     \u001b[0;32mreturn\u001b[0m \u001b[0mwrapper\u001b[0m\u001b[0;34m\u001b[0m\u001b[0;34m\u001b[0m\u001b[0m\n",
            "\u001b[0;32m/usr/local/lib/python3.6/dist-packages/matplotlib/axes/_axes.py\u001b[0m in \u001b[0;36mscatter\u001b[0;34m(self, x, y, s, c, marker, cmap, norm, vmin, vmax, alpha, linewidths, verts, edgecolors, plotnonfinite, **kwargs)\u001b[0m\n\u001b[1;32m   4464\u001b[0m                 \u001b[0mself\u001b[0m\u001b[0;34m.\u001b[0m\u001b[0mset_ymargin\u001b[0m\u001b[0;34m(\u001b[0m\u001b[0;36m0.05\u001b[0m\u001b[0;34m)\u001b[0m\u001b[0;34m\u001b[0m\u001b[0;34m\u001b[0m\u001b[0m\n\u001b[1;32m   4465\u001b[0m \u001b[0;34m\u001b[0m\u001b[0m\n\u001b[0;32m-> 4466\u001b[0;31m         \u001b[0mself\u001b[0m\u001b[0;34m.\u001b[0m\u001b[0madd_collection\u001b[0m\u001b[0;34m(\u001b[0m\u001b[0mcollection\u001b[0m\u001b[0;34m)\u001b[0m\u001b[0;34m\u001b[0m\u001b[0;34m\u001b[0m\u001b[0m\n\u001b[0m\u001b[1;32m   4467\u001b[0m         \u001b[0mself\u001b[0m\u001b[0;34m.\u001b[0m\u001b[0m_request_autoscale_view\u001b[0m\u001b[0;34m(\u001b[0m\u001b[0;34m)\u001b[0m\u001b[0;34m\u001b[0m\u001b[0;34m\u001b[0m\u001b[0m\n\u001b[1;32m   4468\u001b[0m \u001b[0;34m\u001b[0m\u001b[0m\n",
            "\u001b[0;32m/usr/local/lib/python3.6/dist-packages/matplotlib/axes/_base.py\u001b[0m in \u001b[0;36madd_collection\u001b[0;34m(self, collection, autolim)\u001b[0m\n\u001b[1;32m   1818\u001b[0m             \u001b[0;31m# Make sure viewLim is not stale (mostly to match\u001b[0m\u001b[0;34m\u001b[0m\u001b[0;34m\u001b[0m\u001b[0;34m\u001b[0m\u001b[0m\n\u001b[1;32m   1819\u001b[0m             \u001b[0;31m# pre-lazy-autoscale behavior, which is not really better).\u001b[0m\u001b[0;34m\u001b[0m\u001b[0;34m\u001b[0m\u001b[0;34m\u001b[0m\u001b[0m\n\u001b[0;32m-> 1820\u001b[0;31m             \u001b[0mself\u001b[0m\u001b[0;34m.\u001b[0m\u001b[0m_unstale_viewLim\u001b[0m\u001b[0;34m(\u001b[0m\u001b[0;34m)\u001b[0m\u001b[0;34m\u001b[0m\u001b[0;34m\u001b[0m\u001b[0m\n\u001b[0m\u001b[1;32m   1821\u001b[0m             \u001b[0mself\u001b[0m\u001b[0;34m.\u001b[0m\u001b[0mupdate_datalim\u001b[0m\u001b[0;34m(\u001b[0m\u001b[0mcollection\u001b[0m\u001b[0;34m.\u001b[0m\u001b[0mget_datalim\u001b[0m\u001b[0;34m(\u001b[0m\u001b[0mself\u001b[0m\u001b[0;34m.\u001b[0m\u001b[0mtransData\u001b[0m\u001b[0;34m)\u001b[0m\u001b[0;34m)\u001b[0m\u001b[0;34m\u001b[0m\u001b[0;34m\u001b[0m\u001b[0m\n\u001b[1;32m   1822\u001b[0m \u001b[0;34m\u001b[0m\u001b[0m\n",
            "\u001b[0;32m/usr/local/lib/python3.6/dist-packages/matplotlib/axes/_base.py\u001b[0m in \u001b[0;36m_unstale_viewLim\u001b[0;34m(self)\u001b[0m\n\u001b[1;32m    593\u001b[0m             \u001b[0;32mfor\u001b[0m \u001b[0max\u001b[0m \u001b[0;32min\u001b[0m \u001b[0mself\u001b[0m\u001b[0;34m.\u001b[0m\u001b[0m_shared_y_axes\u001b[0m\u001b[0;34m.\u001b[0m\u001b[0mget_siblings\u001b[0m\u001b[0;34m(\u001b[0m\u001b[0mself\u001b[0m\u001b[0;34m)\u001b[0m\u001b[0;34m:\u001b[0m\u001b[0;34m\u001b[0m\u001b[0;34m\u001b[0m\u001b[0m\n\u001b[1;32m    594\u001b[0m                 \u001b[0max\u001b[0m\u001b[0;34m.\u001b[0m\u001b[0m_stale_viewlim_y\u001b[0m \u001b[0;34m=\u001b[0m \u001b[0;32mFalse\u001b[0m\u001b[0;34m\u001b[0m\u001b[0;34m\u001b[0m\u001b[0m\n\u001b[0;32m--> 595\u001b[0;31m             \u001b[0mself\u001b[0m\u001b[0;34m.\u001b[0m\u001b[0mautoscale_view\u001b[0m\u001b[0;34m(\u001b[0m\u001b[0mscalex\u001b[0m\u001b[0;34m=\u001b[0m\u001b[0mscalex\u001b[0m\u001b[0;34m,\u001b[0m \u001b[0mscaley\u001b[0m\u001b[0;34m=\u001b[0m\u001b[0mscaley\u001b[0m\u001b[0;34m)\u001b[0m\u001b[0;34m\u001b[0m\u001b[0;34m\u001b[0m\u001b[0m\n\u001b[0m\u001b[1;32m    596\u001b[0m \u001b[0;34m\u001b[0m\u001b[0m\n\u001b[1;32m    597\u001b[0m     \u001b[0;34m@\u001b[0m\u001b[0mproperty\u001b[0m\u001b[0;34m\u001b[0m\u001b[0;34m\u001b[0m\u001b[0m\n",
            "\u001b[0;32m/usr/local/lib/python3.6/dist-packages/matplotlib/axes/_base.py\u001b[0m in \u001b[0;36mautoscale_view\u001b[0;34m(self, tight, scalex, scaley)\u001b[0m\n\u001b[1;32m   2388\u001b[0m                 y_stickies = np.sort(np.concatenate([\n\u001b[1;32m   2389\u001b[0m                     \u001b[0martist\u001b[0m\u001b[0;34m.\u001b[0m\u001b[0msticky_edges\u001b[0m\u001b[0;34m.\u001b[0m\u001b[0my\u001b[0m\u001b[0;34m\u001b[0m\u001b[0;34m\u001b[0m\u001b[0m\n\u001b[0;32m-> 2390\u001b[0;31m                     \u001b[0;32mfor\u001b[0m \u001b[0max\u001b[0m \u001b[0;32min\u001b[0m \u001b[0mself\u001b[0m\u001b[0;34m.\u001b[0m\u001b[0m_shared_y_axes\u001b[0m\u001b[0;34m.\u001b[0m\u001b[0mget_siblings\u001b[0m\u001b[0;34m(\u001b[0m\u001b[0mself\u001b[0m\u001b[0;34m)\u001b[0m\u001b[0;34m\u001b[0m\u001b[0;34m\u001b[0m\u001b[0m\n\u001b[0m\u001b[1;32m   2391\u001b[0m                     \u001b[0;32mif\u001b[0m \u001b[0mhasattr\u001b[0m\u001b[0;34m(\u001b[0m\u001b[0max\u001b[0m\u001b[0;34m,\u001b[0m \u001b[0;34m\"lines\"\u001b[0m\u001b[0;34m)\u001b[0m\u001b[0;34m\u001b[0m\u001b[0;34m\u001b[0m\u001b[0m\n\u001b[1;32m   2392\u001b[0m                     for artist in ax.get_children()]))\n",
            "\u001b[0;32m/usr/local/lib/python3.6/dist-packages/matplotlib/axes/_base.py\u001b[0m in \u001b[0;36m<listcomp>\u001b[0;34m(.0)\u001b[0m\n\u001b[1;32m   2390\u001b[0m                     \u001b[0;32mfor\u001b[0m \u001b[0max\u001b[0m \u001b[0;32min\u001b[0m \u001b[0mself\u001b[0m\u001b[0;34m.\u001b[0m\u001b[0m_shared_y_axes\u001b[0m\u001b[0;34m.\u001b[0m\u001b[0mget_siblings\u001b[0m\u001b[0;34m(\u001b[0m\u001b[0mself\u001b[0m\u001b[0;34m)\u001b[0m\u001b[0;34m\u001b[0m\u001b[0;34m\u001b[0m\u001b[0m\n\u001b[1;32m   2391\u001b[0m                     \u001b[0;32mif\u001b[0m \u001b[0mhasattr\u001b[0m\u001b[0;34m(\u001b[0m\u001b[0max\u001b[0m\u001b[0;34m,\u001b[0m \u001b[0;34m\"lines\"\u001b[0m\u001b[0;34m)\u001b[0m\u001b[0;34m\u001b[0m\u001b[0;34m\u001b[0m\u001b[0m\n\u001b[0;32m-> 2392\u001b[0;31m                     for artist in ax.get_children()]))\n\u001b[0m\u001b[1;32m   2393\u001b[0m         \u001b[0;32mif\u001b[0m \u001b[0mself\u001b[0m\u001b[0;34m.\u001b[0m\u001b[0mget_xscale\u001b[0m\u001b[0;34m(\u001b[0m\u001b[0;34m)\u001b[0m\u001b[0;34m.\u001b[0m\u001b[0mlower\u001b[0m\u001b[0;34m(\u001b[0m\u001b[0;34m)\u001b[0m \u001b[0;34m==\u001b[0m \u001b[0;34m'log'\u001b[0m\u001b[0;34m:\u001b[0m\u001b[0;34m\u001b[0m\u001b[0;34m\u001b[0m\u001b[0m\n\u001b[1;32m   2394\u001b[0m             \u001b[0mx_stickies\u001b[0m \u001b[0;34m=\u001b[0m \u001b[0mx_stickies\u001b[0m\u001b[0;34m[\u001b[0m\u001b[0mx_stickies\u001b[0m \u001b[0;34m>\u001b[0m \u001b[0;36m0\u001b[0m\u001b[0;34m]\u001b[0m\u001b[0;34m\u001b[0m\u001b[0;34m\u001b[0m\u001b[0m\n",
            "\u001b[0;32m/usr/local/lib/python3.6/dist-packages/matplotlib/artist.py\u001b[0m in \u001b[0;36msticky_edges\u001b[0;34m(self)\u001b[0m\n\u001b[1;32m   1070\u001b[0m \u001b[0;34m\u001b[0m\u001b[0m\n\u001b[1;32m   1071\u001b[0m         \"\"\"\n\u001b[0;32m-> 1072\u001b[0;31m         \u001b[0;32mreturn\u001b[0m \u001b[0mself\u001b[0m\u001b[0;34m.\u001b[0m\u001b[0m_sticky_edges\u001b[0m\u001b[0;34m\u001b[0m\u001b[0;34m\u001b[0m\u001b[0m\n\u001b[0m\u001b[1;32m   1073\u001b[0m \u001b[0;34m\u001b[0m\u001b[0m\n\u001b[1;32m   1074\u001b[0m     \u001b[0;32mdef\u001b[0m \u001b[0mupdate_from\u001b[0m\u001b[0;34m(\u001b[0m\u001b[0mself\u001b[0m\u001b[0;34m,\u001b[0m \u001b[0mother\u001b[0m\u001b[0;34m)\u001b[0m\u001b[0;34m:\u001b[0m\u001b[0;34m\u001b[0m\u001b[0;34m\u001b[0m\u001b[0m\n",
            "\u001b[0;31mKeyboardInterrupt\u001b[0m: "
          ]
        },
        {
          "output_type": "display_data",
          "data": {
            "image/png": "[encoded data removed]",
            "text/plain": [
              "<Figure size 576x432 with 1 Axes>"
            ]
          },
          "metadata": {
            "tags": []
          }
        }
      ]
    },
    {
      "cell_type": "code",
      "metadata": {
        "id": "hbxPIkJDPlGk",
        "colab_type": "code",
        "colab": {
          "base_uri": "https://localhost:8080/",
          "height": 34
        },
        "outputId": "ba111445-2558-49fd-df88-320d9fbca4e4"
      },
      "source": [
        "# Print the percentage of positive tweets\n",
        "ptweets = data_tweets[data_tweets.Analysis == 'Positive']\n",
        "ptweets = ptweets['Tweets']\n",
        "ptweets\n",
        "\n",
        "round( (ptweets.shape[0] / data_tweets.shape[0]) * 100 , 1)"
      ],
      "execution_count": 59,
      "outputs": [
        {
          "output_type": "execute_result",
          "data": {
            "text/plain": [
              "26.8"
            ]
          },
          "metadata": {
            "tags": []
          },
          "execution_count": 59
        }
      ]
    },
    {
      "cell_type": "code",
      "metadata": {
        "id": "WlJII_BfPsQB",
        "colab_type": "code",
        "colab": {
          "base_uri": "https://localhost:8080/",
          "height": 34
        },
        "outputId": "ae3c30df-29c5-4591-a714-348c76a168c7"
      },
      "source": [
        "# Print the percentage of negative tweets\n",
        "ntweets = data_tweets[data_tweets.Analysis == 'Negative']\n",
        "ntweets = ntweets['Tweets']\n",
        "ntweets\n",
        "\n",
        "round( (ntweets.shape[0] / data_tweets.shape[0]) * 100, 1)"
      ],
      "execution_count": 60,
      "outputs": [
        {
          "output_type": "execute_result",
          "data": {
            "text/plain": [
              "25.1"
            ]
          },
          "metadata": {
            "tags": []
          },
          "execution_count": 60
        }
      ]
    },
    {
      "cell_type": "code",
      "metadata": {
        "id": "XNkmQH28P2Im",
        "colab_type": "code",
        "colab": {
          "base_uri": "https://localhost:8080/",
          "height": 85
        },
        "outputId": "97720248-b283-497b-e5ba-c682170d9f37"
      },
      "source": [
        "# Show the value counts\n",
        "data_tweets['Analysis'].value_counts()"
      ],
      "execution_count": 61,
      "outputs": [
        {
          "output_type": "execute_result",
          "data": {
            "text/plain": [
              "Neutral     39591\n",
              "Positive    22140\n",
              "Negative    20737\n",
              "Name: Analysis, dtype: int64"
            ]
          },
          "metadata": {
            "tags": []
          },
          "execution_count": 61
        }
      ]
    },
    {
      "cell_type": "code",
      "metadata": {
        "id": "AguQHGdmQAkz",
        "colab_type": "code",
        "colab": {
          "base_uri": "https://localhost:8080/",
          "height": 374
        },
        "outputId": "371d5fb0-1310-440a-bf7f-fde83140276f"
      },
      "source": [
        "# Plotting and visualizing the counts\n",
        "plt.title('Sentiment Analysis')\n",
        "plt.xlabel('Sentiment')\n",
        "plt.ylabel('Counts')\n",
        "data_tweets['Analysis'].value_counts().plot(kind = 'bar')\n",
        "plt.show()"
      ],
      "execution_count": 62,
      "outputs": [
        {
          "output_type": "display_data",
          "data": {
            "image/png": "[encoded data removed]",
            "text/plain": [
              "<Figure size 432x288 with 1 Axes>"
            ]
          },
          "metadata": {
            "tags": []
          }
        }
      ]
    },
    {
      "cell_type": "code",
      "metadata": {
        "id": "SHt2L6uCQBH7",
        "colab_type": "code",
        "colab": {}
      },
      "source": [
        "import numpy as np\n",
        "import pandas as pd\n",
        "\n"
      ],
      "execution_count": 63,
      "outputs": []
    },
    {
      "cell_type": "code",
      "metadata": {
        "id": "nEYGMn__hihF",
        "colab_type": "code",
        "colab": {}
      },
      "source": [
        "\n",
        "#optional\n",
        "punctuation = '!\"#$%&\\'()*+,-./:;<=>?[\\\\]^_`{|}~'\n",
        "all_reviews = 'separator'.join(reviews)\n",
        "all_reviews = all_reviews.lower()\n",
        "all_text = ''.join([c for c in all_reviews if c not in punctuation])\n",
        "\n",
        "reviews_split = all_text.split('separator')\n",
        "all_text = ' '.join(reviews_split)\n",
        "words = all_text.split()\n",
        "\n",
        "new_reviews = []\n",
        "for review in reviews_split:\n",
        "    review = review.split()\n",
        "    new_text = []\n",
        "    for word in review:\n",
        "        if (word[0] != '@') & ('http' not in word) & (~word.isdigit()):\n",
        "            new_text.append(word)\n",
        "    new_reviews.append(new_text)"
      ],
      "execution_count": 64,
      "outputs": []
    },
    {
      "cell_type": "code",
      "metadata": {
        "id": "VYk1FRYuexo_",
        "colab_type": "code",
        "colab": {
          "base_uri": "https://localhost:8080/",
          "height": 34
        },
        "outputId": "f9ed9d27-0365-4eaf-a3b1-e600d3675a7e"
      },
      "source": [
        "from collections import Counter\n",
        "\n",
        "Counter(labels)"
      ],
      "execution_count": 65,
      "outputs": [
        {
          "output_type": "execute_result",
          "data": {
            "text/plain": [
              "Counter({'Negative': 20737, 'Neutral': 39591, 'Positive': 22140})"
            ]
          },
          "metadata": {
            "tags": []
          },
          "execution_count": 65
        }
      ]
    },
    {
      "cell_type": "code",
      "metadata": {
        "id": "RgATDIiufQ9U",
        "colab_type": "code",
        "colab": {}
      },
      "source": [
        "#dictionary mapping to integer\n",
        "'''encoding'''\n",
        "counts = Counter(words)\n",
        "vocab = sorted(counts, key=counts.get, reverse=True)\n",
        "vocab_to_int = {word: ii for ii, word in enumerate(vocab, 1)}\n",
        "\n",
        "## use the dict to tokenize each review in reviews_split\n",
        "## store the tokenized reviews in reviews_ints\n",
        "reviews_ints = []\n",
        "for review in new_reviews:\n",
        "    reviews_ints.append([vocab_to_int[word] for word in review])\n",
        "    "
      ],
      "execution_count": 66,
      "outputs": []
    },
    {
      "cell_type": "code",
      "metadata": {
        "id": "Ds0HKnzpiZgQ",
        "colab_type": "code",
        "colab": {
          "base_uri": "https://localhost:8080/",
          "height": 85
        },
        "outputId": "905cfd0c-955f-4a1a-eb30-303503fb7107"
      },
      "source": [
        "print('Unique words: ', len((vocab_to_int)))  # should ~ 74000+\n",
        "print()\n",
        "\n",
        "# print tokens in first review\n",
        "print('Tokenized review: \\n', reviews_ints[:1])"
      ],
      "execution_count": 67,
      "outputs": [
        {
          "output_type": "stream",
          "text": [
            "Unique words:  37935\n",
            "\n",
            "Tokenized review: \n",
            " [[425, 85, 147, 10, 1739, 269, 19, 149, 112, 60, 178, 20, 232, 163, 94, 132, 914, 745, 78, 1227, 4, 5, 3064, 12491]]\n"
          ],
          "name": "stdout"
        }
      ]
    },
    {
      "cell_type": "code",
      "metadata": {
        "id": "6jZsCIcUin8U",
        "colab_type": "code",
        "colab": {
          "base_uri": "https://localhost:8080/",
          "height": 34
        },
        "outputId": "2d9c806e-fcec-4d7b-f715-c605a01e1136"
      },
      "source": [
        "#labels encoding\n",
        "encoded_labels = []\n",
        "for label in labels:\n",
        "    if label == 'Neutral':\n",
        "        encoded_labels.append(1)\n",
        "    elif label == 'Negative':\n",
        "        encoded_labels.append(0)\n",
        "    else:\n",
        "        encoded_labels.append(1)\n",
        "\n",
        "encoded_labels = np.asarray(encoded_labels)\n",
        "print (encoded_labels)\n"
      ],
      "execution_count": 68,
      "outputs": [
        {
          "output_type": "stream",
          "text": [
            "[1 1 0 ... 0 1 0]\n"
          ],
          "name": "stdout"
        }
      ]
    },
    {
      "cell_type": "code",
      "metadata": {
        "id": "1W6HSe-oBchK",
        "colab_type": "code",
        "colab": {
          "base_uri": "https://localhost:8080/",
          "height": 34
        },
        "outputId": "591fb2f4-9342-4d4e-a33e-22be31975ad7"
      },
      "source": [
        "print(len (reviews_ints))\n"
      ],
      "execution_count": 69,
      "outputs": [
        {
          "output_type": "stream",
          "text": [
            "82468\n"
          ],
          "name": "stdout"
        }
      ]
    },
    {
      "cell_type": "code",
      "metadata": {
        "id": "QZd7LwJkC9yO",
        "colab_type": "code",
        "colab": {
          "base_uri": "https://localhost:8080/",
          "height": 136
        },
        "outputId": "11502754-6028-4d5b-a9fb-e9ca9c3538b4"
      },
      "source": [
        "arr=np.array(reviews_ints)\n",
        "print (arr)\n"
      ],
      "execution_count": 70,
      "outputs": [
        {
          "output_type": "stream",
          "text": [
            "[list([425, 85, 147, 10, 1739, 269, 19, 149, 112, 60, 178, 20, 232, 163, 94, 132, 914, 745, 78, 1227, 4, 5, 3064, 12491])\n",
            " list([231, 9, 237, 235, 23, 239, 220, 21, 1, 12])\n",
            " list([15, 50, 98, 467, 537, 566, 35, 180, 462, 110, 561, 15, 37, 118, 228, 6, 118, 97])\n",
            " ...\n",
            " list([4, 5, 19, 1, 15, 121, 79, 116, 101, 137, 79, 123, 84, 15, 129, 33, 83, 2, 138, 135, 17, 59, 140])\n",
            " list([18, 11, 16, 30, 29])\n",
            " list([8, 365, 4, 1, 70, 3440, 149, 211, 6328, 866])]\n"
          ],
          "name": "stdout"
        }
      ]
    },
    {
      "cell_type": "code",
      "metadata": {
        "id": "m4E-SYCDFaZY",
        "colab_type": "code",
        "colab": {
          "base_uri": "https://localhost:8080/",
          "height": 51
        },
        "outputId": "134e61c9-87e2-4c19-a52d-3a04e4f12231"
      },
      "source": [
        "print('Number of reviews before removing outliers: ', len(reviews_ints))\n",
        "\n",
        "## remove any reviews/labels with zero length from the reviews_ints list.\n",
        "\n",
        "# get indices of any reviews with length 0\n",
        "non_zero_idx = [ii for ii, review in enumerate(reviews_ints) if len(review) != 0]\n",
        "\n",
        "# remove 0-length reviews and their labels\n",
        "reviews_ints = [reviews_ints[ii] for ii in non_zero_idx]\n",
        "encoded_labels = np.array([encoded_labels[ii] for ii in non_zero_idx])\n",
        "\n",
        "print('Number of reviews after removing outliers: ', len(reviews_ints))"
      ],
      "execution_count": 71,
      "outputs": [
        {
          "output_type": "stream",
          "text": [
            "Number of reviews before removing outliers:  82468\n",
            "Number of reviews after removing outliers:  82467\n"
          ],
          "name": "stdout"
        }
      ]
    },
    {
      "cell_type": "code",
      "metadata": {
        "id": "9tWBI5KTG47T",
        "colab_type": "code",
        "colab": {
          "base_uri": "https://localhost:8080/",
          "height": 1000
        },
        "outputId": "3eeb1f73-80c1-4c42-d01d-b9cbc88bad02"
      },
      "source": [
        "for i in range (100):\n",
        "\n",
        "\n",
        "  print( (reviews_ints[i]))"
      ],
      "execution_count": 72,
      "outputs": [
        {
          "output_type": "stream",
          "text": [
            "[425, 85, 147, 10, 1739, 269, 19, 149, 112, 60, 178, 20, 232, 163, 94, 132, 914, 745, 78, 1227, 4, 5, 3064, 12491]\n",
            "[231, 9, 237, 235, 23, 239, 220, 21, 1, 12]\n",
            "[15, 50, 98, 467, 537, 566, 35, 180, 462, 110, 561, 15, 37, 118, 228, 6, 118, 97]\n",
            "[1268, 311, 180, 1, 12, 6899, 14, 562, 3, 110, 85, 4223, 26, 419, 141, 1792, 734, 20, 58, 213, 17309, 111, 141, 2599, 7, 12492]\n",
            "[1046, 479, 23, 162]\n",
            "[42, 10, 4, 103, 73]\n",
            "[62, 35, 7, 61, 40, 5, 68, 63, 24, 36, 22, 1, 6, 57, 13, 17, 34, 71]\n",
            "[1, 18, 13, 27, 87, 31, 81, 75, 90]\n",
            "[1849, 1417, 6, 902, 1168, 10, 2, 1228, 7, 155, 80, 574, 13, 10, 118, 1462, 125, 1793, 10, 2208]\n",
            "[567, 497, 249, 217, 122, 314, 1278, 299, 2, 254, 226, 4, 1, 12, 448, 16, 942, 1418]\n",
            "[106, 47, 9, 101, 167, 14, 181, 230, 10, 221, 202, 206, 99, 201, 15, 14, 47, 1, 218, 184, 127, 73, 233]\n",
            "[1, 18, 13, 27, 87, 31, 81, 75, 90]\n",
            "[573, 428, 9, 3705, 666, 19, 3706, 6, 3455, 19, 672, 870, 926, 111, 1, 262, 428, 77, 3456]\n",
            "[12493, 2, 1, 5, 281, 871, 45, 168, 278, 3, 2, 451, 1359]\n",
            "[664, 693, 5, 602, 10, 2, 652, 586, 694, 4, 59, 419, 430, 524, 93, 31, 1]\n",
            "[212, 151, 165, 76, 4, 102, 5, 189, 173, 2, 208, 2, 65, 224, 31, 42, 187, 6, 20, 225]\n",
            "[74, 20, 141, 1012, 415, 8, 168, 191, 45, 1522, 17310, 197, 100, 94, 2, 325, 4224, 38, 1057, 1435, 19, 1, 12]\n",
            "[624, 6, 63, 2, 880, 20, 141, 4858, 2495, 3147, 370, 1047, 6, 1034, 1195, 12495]\n",
            "[26, 1143, 5, 216, 124, 1, 2209, 1143, 5, 216, 124, 1, 2209, 1143, 5, 216, 124, 1, 2209, 1143, 1672]\n",
            "[189, 170, 3, 970, 9, 587, 321, 3, 292, 23, 132, 463, 305, 45, 15, 168, 667, 971, 972]\n",
            "[33, 48, 26, 4859, 117, 8, 631, 5475, 3457, 9, 6900, 21, 8690]\n",
            "[42, 10, 4, 103, 73]\n",
            "[106, 15, 16, 465, 14, 4, 5, 126, 228, 457, 113, 429, 439, 20, 170, 3, 349, 109, 188, 255, 149, 69, 464]\n",
            "[4225, 2019, 2, 4226, 8691, 118, 12496, 6, 2, 1510, 3863, 505, 534, 9, 547, 23, 105, 12497]\n",
            "[112, 91, 9, 107, 125, 105, 32, 9, 143, 139]\n",
            "[4, 5, 52, 54, 8, 37, 3, 43, 14, 28, 53, 41, 44, 49, 6, 46, 56]\n",
            "[108, 70, 8, 96, 82, 93, 10, 4, 95]\n",
            "[1, 8, 3346, 2729, 35, 2, 18, 396, 2958, 3347, 3, 550, 789, 268, 2730, 7, 155, 2210, 222, 943, 3, 205, 315]\n",
            "[67, 24, 1436, 45, 7672, 78, 3, 8692, 1028, 2, 3458, 24, 1615, 475, 2, 1169, 2057, 38, 45, 121, 6, 11, 2057, 287]\n",
            "[108, 70, 4, 5, 32, 887, 217]\n",
            "[2, 199, 253, 120, 50, 480, 109, 23, 1, 12]\n",
            "[17311, 1313, 550, 21, 4, 2600, 5476]\n",
            "[17312, 522, 147, 17313, 100, 15, 20, 1523, 17, 2731, 242, 4, 325, 1, 12, 679, 1570, 8693]\n",
            "[1339, 74, 545, 8694, 92, 12498, 599, 3707, 17314, 21, 10048, 141, 184, 20, 3864, 524, 488]\n",
            "[160, 7, 156, 361, 23, 153, 102, 1, 36, 22, 6, 34, 332, 10, 69, 256, 287]\n",
            "[4, 177, 97, 169]\n",
            "[26, 326, 519, 17315, 47, 5148, 3, 5477, 570, 17316, 280, 689, 17, 9, 1218, 6, 1198, 6, 290, 176, 89, 2260, 339, 251, 19, 2, 1, 12, 28, 290, 2058, 6901, 182, 3865, 17, 251, 18, 4860, 493, 76, 2, 880, 5, 511, 17, 4, 251, 995]\n",
            "[8, 440, 27, 176, 4, 5833]\n",
            "[108, 70, 8, 96, 82, 93, 10, 4, 95]\n",
            "[18, 11, 16, 30, 29]\n",
            "[18, 11, 16, 30, 29]\n",
            "[629, 4615, 7, 914, 3348, 433, 152, 6902, 6903, 1325, 21, 6904, 80, 1492, 5834, 275, 3, 5835]\n",
            "[11, 259, 781, 1633, 1474, 188, 2, 104, 3, 1252, 1633, 85, 299, 185, 7, 1548, 881, 118, 3866, 315]\n",
            "[286, 8, 39, 1, 8, 39, 1229, 176, 128, 3459, 1048, 21, 214, 547, 10, 782, 6323, 2, 192, 7, 2, 18, 99, 32, 6324]\n",
            "[4, 5, 52, 54, 8, 37, 3, 43, 14, 28, 53, 41, 44, 49, 6, 46, 56]\n",
            "[15, 50, 98, 467, 537, 566, 35, 180, 462, 110, 561, 15, 37, 118, 228, 6, 118, 97]\n",
            "[4, 5, 52, 54, 8, 37, 3, 43, 14, 28, 53, 41, 44, 49, 6, 46, 56]\n",
            "[3543, 578, 448, 1673, 10, 274, 7, 1659, 1, 12, 3544, 3545, 3546, 3547, 3460, 2431]\n",
            "[2732, 4, 5, 3148]\n",
            "[17317, 146, 3065, 7, 2, 1, 12, 47, 27, 3066, 91, 318, 17318, 340, 17319, 3, 17320, 8695, 17321]\n",
            "[106, 47, 9, 101, 167, 14, 181, 230, 10, 221, 202, 206, 99, 201, 15, 14, 47, 1, 218, 184, 127, 73, 233]\n",
            "[4861, 1634, 15, 195, 1, 12499]\n",
            "[9, 326, 519, 23, 17322, 5, 2, 154, 93, 3, 384, 23, 1, 227, 2958, 10, 782, 1850, 21, 6905, 19, 32, 1230, 4228, 1463, 89, 5149, 1483, 394, 31, 4, 200, 1170, 17, 2, 1097, 8696, 458, 14, 1065, 10, 17323, 2211]\n",
            "[3254, 372, 47, 936, 10, 2, 193, 490, 1950, 735, 3, 186, 2, 2674, 1876, 2377, 1484, 3149, 321, 3255]\n",
            "[33, 122, 26, 754, 882, 10, 2, 1199, 227, 2, 1, 513, 192]\n",
            "[26, 335, 227, 1179, 13, 420, 153, 252, 48, 76, 1, 85, 382, 2601]\n",
            "[2675, 547, 1475, 15, 142, 1, 130, 17324]\n",
            "[944, 2, 17325, 20, 15, 163, 410, 15, 50, 477, 3, 33, 15, 263, 8697, 4616, 10, 4, 1, 12, 2212, 168, 244, 3, 1058, 270]\n",
            "[4, 269, 85, 3256, 26, 3549, 35, 9, 1200, 17326, 606, 3, 26, 171, 6, 4229, 213, 10049, 104, 6, 145, 3349, 2801, 26, 1279, 104, 599, 42, 5, 6906, 1709, 1, 746, 168, 379, 166, 74, 2378, 2, 1049, 5, 3150, 33, 35, 2, 3151]\n",
            "[2802, 38, 1006, 48, 115, 1476, 94, 2, 1, 74, 417, 2432, 21, 1660, 2602, 1269, 830, 94, 2, 511, 12]\n",
            "[783, 2379, 2380, 182, 9, 461, 21, 14, 176, 1, 50, 38, 996, 957, 112, 17, 2381, 47, 1851, 1741]\n",
            "[4, 88, 86, 66, 55, 1]\n",
            "[231, 9, 237, 235, 23, 239, 220, 21, 1, 12]\n",
            "[106, 47, 9, 101, 167, 14, 181, 230, 10, 221, 202, 206, 99, 201, 15, 14, 47, 1, 218, 184, 127, 73, 233]\n",
            "[62, 35, 7, 61, 40, 5, 68, 63, 24, 36, 22, 1, 6, 57, 13, 17, 34, 71]\n",
            "[4, 5, 52, 54, 8, 37, 3, 43, 14, 28, 53, 41, 44, 49, 6, 46, 56]\n",
            "[18, 11, 16, 30, 29]\n",
            "[106, 47, 9, 101, 167, 14, 181, 230, 10, 221, 202, 206, 99, 201, 15, 14, 47, 1, 218, 184, 127, 73, 233]\n",
            "[18, 11, 16, 30, 29]\n",
            "[212, 151, 165, 76, 4, 102, 5, 189, 173, 2, 208, 2, 65, 224, 31, 42, 187, 6, 20, 225]\n",
            "[3550, 1019, 13, 668, 5836, 215, 922, 80, 38, 126, 10050, 7, 1451, 2676, 1951]\n",
            "[3152, 9, 538, 7, 15, 200, 390, 2261, 23, 515, 9, 197, 252, 3153, 48, 59, 1299, 17, 1144, 4, 5, 27, 3154]\n",
            "[212, 151, 165, 76, 4, 102, 5, 189, 173, 2, 208, 2, 65, 224, 31, 42, 187, 6, 20, 225]\n",
            "[62, 35, 7, 61, 40, 5, 68, 63, 24, 36, 22, 1, 6, 57, 13, 17, 34, 71]\n",
            "[4, 5, 52, 54, 8, 37, 3, 43, 14, 28, 53, 41, 44, 49, 6, 46, 56]\n",
            "[198, 4, 28, 1]\n",
            "[106, 47, 9, 101, 167, 14, 181, 230, 10, 221, 202, 206, 99, 201, 15, 14, 47, 1, 218, 184, 127, 73, 233]\n",
            "[130, 319, 80, 15, 131, 180, 313, 10, 375, 330, 1, 70, 5, 149, 1300]\n",
            "[2126, 91, 1635, 539, 3, 520, 2, 2959, 14, 2087, 1794, 3, 2603, 35, 370, 5, 9, 1136, 7, 2, 3350]\n",
            "[223, 2875, 210, 74, 24, 1691, 176, 657, 3551, 98, 923, 7, 2733, 789, 17, 1, 6, 69, 1674, 259, 32, 1020]\n",
            "[4, 5, 4230, 8, 80, 726, 3, 809, 26, 1171, 146, 5837, 14, 4, 861, 7, 4029, 1168, 80, 32, 1020]\n",
            "[8, 704, 1599, 128, 530, 74, 3, 39, 9, 690, 13, 182, 3, 38, 10, 9, 50, 6, 8, 12500, 2, 12501, 2088, 7, 26, 3552, 8698, 804, 396, 2, 927, 8, 1852, 132, 3553, 20, 35]\n",
            "[108, 70, 8, 96, 82, 93, 10, 4, 95]\n",
            "[42, 10, 4, 103, 73]\n",
            "[76, 9, 107, 8699]\n",
            "[18, 11, 16, 30, 29]\n",
            "[77, 55, 1600, 1116, 19, 394, 548, 176, 111, 9, 54, 52, 2089, 297, 168, 379, 58, 54, 52, 397, 19, 9, 12502, 7, 548, 931, 8, 5838, 35, 17, 3708, 7, 862, 120, 200, 38, 243, 2, 300, 219, 6, 145, 126, 17327]\n",
            "[6325, 1, 32, 163, 3, 55, 33, 23, 407, 965, 257, 5839, 5840, 63, 260, 48]\n",
            "[17328, 333, 78, 262, 356, 33, 1, 1767, 48, 4, 364]\n",
            "[1952, 194, 428, 588, 459, 12503, 3, 322, 60, 17329, 27, 398, 17330]\n",
            "[14, 981, 1, 950, 95, 5, 524, 33]\n",
            "[108, 70, 8, 96, 82, 93, 10, 4, 95]\n",
            "[26, 280, 116, 928, 1692, 1910, 1, 3, 9, 1340, 917, 19, 2, 2020, 19, 26, 419]\n",
            "[2, 539, 571, 5, 14, 727, 525, 2323, 3, 1419, 175, 1826, 514, 20, 10, 2, 2324, 1524, 122, 910, 2, 1035, 2325]\n",
            "[113, 5, 170, 3, 292, 15, 23, 69, 305, 17, 69, 172, 158, 157, 210]\n",
            "[108, 70, 8, 96, 82, 93, 10, 4, 95]\n",
            "[231, 9, 237, 235, 23, 239, 220, 21, 1, 12]\n",
            "[113, 5, 97]\n",
            "[18, 11, 16, 30, 29]\n",
            "[1452, 802, 2, 1582, 19, 619]\n"
          ],
          "name": "stdout"
        }
      ]
    },
    {
      "cell_type": "code",
      "metadata": {
        "id": "4R10YaJ_i-FM",
        "colab_type": "code",
        "colab": {}
      },
      "source": [
        "def pad_features(reviews_ints, seq_length):\n",
        "    ''' Return features of review_ints, where each review is padded with 0's \n",
        "        or truncated to the input seq_length.\n",
        "    '''\n",
        "    \n",
        "    # getting the correct rows x cols shape\n",
        "    features = np.zeros((len(reviews_ints), seq_length), dtype=int)\n",
        "\n",
        "    # for each review, I grab that review and \n",
        "    for i, row in enumerate(reviews_ints):\n",
        "        features[i, -len(row):] = np.array(row)[:seq_length]\n",
        "    \n",
        "    return features"
      ],
      "execution_count": 73,
      "outputs": []
    },
    {
      "cell_type": "code",
      "metadata": {
        "id": "0jXgmBEfjfP7",
        "colab_type": "code",
        "colab": {
          "base_uri": "https://localhost:8080/",
          "height": 527
        },
        "outputId": "cf4dd405-a5c7-4b7e-c17e-70ec02c5490a"
      },
      "source": [
        "seq_length = 20\n",
        "\n",
        "features = pad_features(reviews_ints, seq_length=seq_length)\n",
        "\n",
        "## test statements - do not change - ##\n",
        "assert len(features)==len(reviews_ints), \"Your features should have as many rows as reviews.\"\n",
        "assert len(features[0])==seq_length, \"Each feature row should contain seq_length values.\"\n",
        "\n",
        "# print first 10 values of the first 30 batches \n",
        "print(features[:30,:10])"
      ],
      "execution_count": 74,
      "outputs": [
        {
          "output_type": "stream",
          "text": [
            "[[  425    85   147    10  1739   269    19   149   112    60]\n",
            " [    0     0     0     0     0     0     0     0     0     0]\n",
            " [    0     0    15    50    98   467   537   566    35   180]\n",
            " [ 1268   311   180     1    12  6899    14   562     3   110]\n",
            " [    0     0     0     0     0     0     0     0     0     0]\n",
            " [    0     0     0     0     0     0     0     0     0     0]\n",
            " [    0     0    62    35     7    61    40     5    68    63]\n",
            " [    0     0     0     0     0     0     0     0     0     0]\n",
            " [ 1849  1417     6   902  1168    10     2  1228     7   155]\n",
            " [    0     0   567   497   249   217   122   314  1278   299]\n",
            " [  106    47     9   101   167    14   181   230    10   221]\n",
            " [    0     0     0     0     0     0     0     0     0     0]\n",
            " [    0   573   428     9  3705   666    19  3706     6  3455]\n",
            " [    0     0     0     0     0     0     0 12493     2     1]\n",
            " [    0     0     0   664   693     5   602    10     2   652]\n",
            " [  212   151   165    76     4   102     5   189   173     2]\n",
            " [   74    20   141  1012   415     8   168   191    45  1522]\n",
            " [    0     0     0     0   624     6    63     2   880    20]\n",
            " [   26  1143     5   216   124     1  2209  1143     5   216]\n",
            " [    0   189   170     3   970     9   587   321     3   292]\n",
            " [    0     0     0     0     0     0     0    33    48    26]\n",
            " [    0     0     0     0     0     0     0     0     0     0]\n",
            " [  106    15    16   465    14     4     5   126   228   457]\n",
            " [    0     0  4225  2019     2  4226  8691   118 12496     6]\n",
            " [    0     0     0     0     0     0     0     0     0     0]\n",
            " [    0     0     0     4     5    52    54     8    37     3]\n",
            " [    0     0     0     0     0     0     0     0     0     0]\n",
            " [    1     8  3346  2729    35     2    18   396  2958  3347]\n",
            " [   67    24  1436    45  7672    78     3  8692  1028     2]\n",
            " [    0     0     0     0     0     0     0     0     0     0]]\n"
          ],
          "name": "stdout"
        }
      ]
    },
    {
      "cell_type": "code",
      "metadata": {
        "id": "K9cTQDbvobww",
        "colab_type": "code",
        "colab": {
          "base_uri": "https://localhost:8080/",
          "height": 85
        },
        "outputId": "607aca4a-ff79-4e75-cf11-59bb0c933070"
      },
      "source": [
        "split_frac = 0.8\n",
        "\n",
        "## split data into training, validation, and test data (features and labels, x and y)\n",
        "\n",
        "split_idx = int(len(features)*split_frac)\n",
        "train_x, remaining_x = features[:split_idx], features[split_idx:]\n",
        "train_y, remaining_y = encoded_labels[:split_idx], encoded_labels[split_idx:]\n",
        "\n",
        "test_idx = int(len(remaining_x)*0.5)\n",
        "val_x, test_x = remaining_x[:test_idx], remaining_x[test_idx:]\n",
        "val_y, test_y = remaining_y[:test_idx], remaining_y[test_idx:]\n",
        "\n",
        "## print out the shapes of your resultant feature data\n",
        "print(\"\\t\\t\\tFeature Shapes:\")\n",
        "print(\"Train set: \\t\\t{}\".format(train_x.shape), \n",
        "      \"\\nValidation set: \\t{}\".format(val_x.shape),\n",
        "      \"\\nTest set: \\t\\t{}\".format(test_x.shape))"
      ],
      "execution_count": 75,
      "outputs": [
        {
          "output_type": "stream",
          "text": [
            "\t\t\tFeature Shapes:\n",
            "Train set: \t\t(65973, 20) \n",
            "Validation set: \t(8247, 20) \n",
            "Test set: \t\t(8247, 20)\n"
          ],
          "name": "stdout"
        }
      ]
    },
    {
      "cell_type": "code",
      "metadata": {
        "id": "OUrLx2p5oh45",
        "colab_type": "code",
        "colab": {}
      },
      "source": [
        "import torch\n",
        "from torch.utils.data import TensorDataset, DataLoader\n",
        "\n",
        "# create Tensor datasets\n",
        "train_data = TensorDataset(torch.from_numpy(train_x), torch.from_numpy(train_y))\n",
        "valid_data = TensorDataset(torch.from_numpy(val_x), torch.from_numpy(val_y))\n",
        "test_data = TensorDataset(torch.from_numpy(test_x), torch.from_numpy(test_y))\n",
        "\n",
        "# dataloaders\n",
        "batch_size = 50\n",
        "\n",
        "# make sure the SHUFFLE your training data\n",
        "train_loader = DataLoader(train_data, shuffle=True, batch_size=batch_size,drop_last=True)\n",
        "valid_loader = DataLoader(valid_data, shuffle=True, batch_size=batch_size,drop_last=True)\n",
        "test_loader = DataLoader(test_data, shuffle=True, batch_size=batch_size,drop_last=True)"
      ],
      "execution_count": 76,
      "outputs": []
    },
    {
      "cell_type": "code",
      "metadata": {
        "id": "G2es2gnEouJj",
        "colab_type": "code",
        "colab": {
          "base_uri": "https://localhost:8080/",
          "height": 1000
        },
        "outputId": "be9c6b83-adeb-47c1-f9f2-705cbc597daa"
      },
      "source": [
        "dataiter = iter(train_loader)\n",
        "sample_x, sample_y = dataiter.next()\n",
        "\n",
        "print('Sample input size: ', sample_x.size()) # batch_size, seq_length\n",
        "print('Sample input: \\n', sample_x)\n",
        "print()\n",
        "print('Sample label size: ', sample_y.size()) # batch_size\n",
        "print('Sample label: \\n', sample_y)"
      ],
      "execution_count": 77,
      "outputs": [
        {
          "output_type": "stream",
          "text": [
            "Sample input size:  torch.Size([50, 20])\n",
            "Sample input: \n",
            " tensor([[    0,     0,     0,     4,     5,    52,    54,     8,    37,     3,\n",
            "            43,    14,    28,    53,    41,    44,    49,     6,    46,    56],\n",
            "        [    0,     0,     0,     0,     0,     0,     0,     0,     0,     0,\n",
            "             0,     0,     0,     0,    70,     8,   601,   191,    94,    14],\n",
            "        [    0,     0,     0,     0,     0,     0,     0,     0,     0,     0,\n",
            "             0,     0,     0,     0,   133,     1,     8,   247,    26,   241],\n",
            "        [    0,     0,     0,     0,     0,     0,     0,     0,     0,     0,\n",
            "             0,     0,     0,     0,     0,     4,    97,   133,   149,   178],\n",
            "        [   21,   541,    60,    10,   864,    80,    38,  7506,    10,     2,\n",
            "          3699,   146,   326,  7507,    78,     2,   254,     5,   213, 11445],\n",
            "        [    0,     0,     0,     0,     0,     0,     0,     0,     0,     0,\n",
            "             0,     0,     0,     0,     4,    88,    86,    66,    55,     1],\n",
            "        [    0,     0,     0,     0,     0,     0,     0,     0,     0,     0,\n",
            "             0,     0,     0,     0,     0,    18,    11,    16,    30,    29],\n",
            "        [    0,     0,     0,     0,     0,     0,     0,     0,     0,     0,\n",
            "             0,     0,     0,     0,     0,   798,  1090,     3,     4,   358],\n",
            "        [    0,     0,     0,     0,     0,     0,     0,     0,     0,     0,\n",
            "             0,     0,     0,     0,     0,     0,     0, 16455,   373, 30600],\n",
            "        [    9,  2468,    93,    27,  5222,     1,   458,     3,   835,  6676,\n",
            "             6,    47, 15839,     9,  1810,  2906,    78,    24,  5049,    33],\n",
            "        [    0,     0,     0,     0,     0,     0,     0,  4336,  2521,     6,\n",
            "           782,     1,   185,    80,  1742,    35,   382,   260,   158,   675],\n",
            "        [    0,     0,     0,  4697,     8,   158,   451,   445,  4698,    74,\n",
            "             4,     5,   174,  2168,     3,   271,     1,   913,    20,   582],\n",
            "        [    0,     0,     0,     0,     0,     0,     0,     0,     0,     0,\n",
            "             0,     0,     0,     0,     4,    88,    86,    66,    55,     1],\n",
            "        [    0,     0,  5308,   131,    60,    32,   799,    11,    27,   182,\n",
            "           625,    23,     2,   167,    10,     2,   167,   866,   122,  5311],\n",
            "        [    0,     0,     0,     0,     0,     0,     0,     0,     0,     0,\n",
            "            99,   442,   453,     1,   434,   359,    78,    26,   146,   455],\n",
            "        [    0,     0,     0,     0,     0,     0,     0,     0,     0,     0,\n",
            "             0,     0,     0,     0,     0,    18,    11,    16,    30,    29],\n",
            "        [    0,     0,     0,     0,     0, 21101,  1077,    10,     4,   193,\n",
            "             7,     1,     8,    37,     3,    38,    59,   503, 21102, 21103],\n",
            "        [    0,     0,     0,     0,     0,     0,     0,     0,     0,     0,\n",
            "             0,     0,     0,     0,    26,  2821,   142,     2,     1,  2597],\n",
            "        [    0,     0,     0,     0,     0,     0,     0,     0,     0,     0,\n",
            "             0,     0,  6876,     1,  3698,   459,   746,  1145,  4618,  6311],\n",
            "        [    0,     0,   160,    23,   156,   558,   153,   102,    24,    36,\n",
            "            22,     1,     3,   761,     2,    12,     6,   246,    10,   780],\n",
            "        [   84,   428,    44,    13,     4,   104,    10,   280,   308,    24,\n",
            "            47,    44,    13,     1,    19,   112,    45,    84,  3610,  2027],\n",
            "        [ 1234,    92,   587, 12990,  2442,     6, 20607,    11,   323,    10,\n",
            "             9,    33,   556,     6,     8,   587,   120,  3396,    94,     2],\n",
            "        [    0,     0,     0,     0,     0,     0,     0,     0,     0,     0,\n",
            "             0,   108,    70,     8,    96,    82,    93,    10,     4,    95],\n",
            "        [    0,     0,     0,     0,     0,     0,     0,     4,   450,     5,\n",
            "          3563,   130,   115,   130,   319,   545,  1039,     1, 19192,   730],\n",
            "        [    0,     0,     0,     0,     0,   120,  1019,    14,    24,    47,\n",
            "            97,   120,  1019,    14,    24,    47,   559,     9,   107,    97],\n",
            "        [ 3208,    98,   119,     3,  1285,   100,   223,   339,  1047,    20,\n",
            "          1056,  1072,     9,  1592,  2649,    67,   570,  2702,    20,   722],\n",
            "        [    0,     0,     0,     0,     0,     0,     0,     0,     0,     0,\n",
            "             0,     0,     0,     0,     0,     0,   198,     4,    28,     1],\n",
            "        [    0,     0,     0,     0,     0,     0,     0,     0,     0,     0,\n",
            "             0,     0,     0,     0,   133,     1,     8,   247,    26,   241],\n",
            "        [    0,     0,     0,     0,     0,     0,     0,     0,     0,     0,\n",
            "             0,     0,     0,     0,     4,    88,    86,    66,    55,     1],\n",
            "        [    0,     0,     0, 30819,   249,     1,    12,    11,   913,    20,\n",
            "          3659,   567,   168,   412,   109,  7843,  5613, 30820,  8010, 30821],\n",
            "        [  227,   563,     4,   222, 28633,    19,     2,     1,    12,     6,\n",
            "           365,    13,   886,  1115,  2967,    76,     9,  2245,     7,  5080],\n",
            "        [    0,     0,    62,    35,     7,    61,    40,     5,    68,    63,\n",
            "            24,    36,    22,     1,     6,    57,    13,    17,    34,    71],\n",
            "        [    0,     0,     0,     0,     0,     0,     0,     0,     0,     0,\n",
            "             0,     0,     0,     0,     0,    18,    11,    16,    30,    29],\n",
            "        [    0,     0,     0,     0,     0,     0,     0,     0,     0,     0,\n",
            "             0,   108,    70,     8,    96,    82,    93,    10,     4,    95],\n",
            "        [    0,     0,     0,     0,     0,     0,     0,     1,   110,    98,\n",
            "             1,   750,   270,    23,    60,     5,   454,     9,   197,   482],\n",
            "        [    0,     0,     0,     0,     0,     0,     0,     0,     0,     0,\n",
            "           231,     9,   237,   235,    23,   239,   220,    21,     1,    12],\n",
            "        [    0,     0,     0,   158,   651,    74,   186,  1800,   231,    59,\n",
            "           914,   669,  8049,   155,  3220,    10,  2123,  2003,   155,     1],\n",
            "        [    0,     0,     0,     0,     0,     0,     0,     0,     0,   333,\n",
            "            78,   262,   765,    92, 18018,   359,     3,   118,     1,   119],\n",
            "        [    0,     0,     0,     0,     0,     0,     0,     0,     0,     0,\n",
            "             0,     0,     0,     0,     0,     0,    74,   260,   142,     1],\n",
            "        [    0,     0,     0,     0,     0,     0,     0,     0,     0,     0,\n",
            "             0,     0,     0,     0,     0,    18,    11,    16,    30,    29],\n",
            "        [    0,     0,     0,     0,     0,     0,     0,     0,     0,     0,\n",
            "             0,     0,     0,     0,     0,    18,    11,    16,    30,    29],\n",
            "        [    0,     0,     0,     0,     0,     0,     0,     0,     0,     0,\n",
            "             0,     0,   521,   407,     3,   809,   534,     3,    38,    97],\n",
            "        [    0,     0,     0,     0,     0,     0,     0,     0,     0,     0,\n",
            "             0,     0,     0,     0,     0,    18,    11,    16,    30,    29],\n",
            "        [    0,     0,     0,     0,     0,     0,     0,     0,     0,     0,\n",
            "             0,     0,     0,     0,     4,    88,    86,    66,    55,     1],\n",
            "        [   76,   261,   191,   414,   193,    80,   252,    31,   413,  1408,\n",
            "          1064,   818,   148,   919,    74,   148,  2798,  2799,     3,  2794],\n",
            "        [    0,     0,     0,     0,     0,     0,     0,     0,     0,     0,\n",
            "             0,     0,     0,     0,     0,    42,    10,     4,   103,    73],\n",
            "        [    0,     0,     0,     0,     0,     0,     0,     0,     0,     0,\n",
            "             8,   222,  1022,    14,    89,    80,    38, 27272,   111,     1],\n",
            "        [    0,     0,     0,     0,     0,     0,     0,     0,     0,     0,\n",
            "             0,     0,     0,     0,     0,     0,     0,   725,    19,   619],\n",
            "        [    8,  1151,   357,    15,   100,  5366,    13,    47,     3,   205,\n",
            "            60,   232,  3230,    21,   423,   363,     6,  1122,    60,    21],\n",
            "        [    0,     0,     0,     0,     0,     0,     0,     0,     0,     0,\n",
            "             0,     0,     0,     0,     0,     0,     4,   177,    97,   169]])\n",
            "\n",
            "Sample label size:  torch.Size([50])\n",
            "Sample label: \n",
            " tensor([1, 0, 0, 0, 1, 1, 1, 1, 1, 1, 1, 1, 1, 1, 1, 1, 1, 1, 1, 1, 1, 0, 0, 1,\n",
            "        0, 1, 1, 0, 1, 1, 1, 1, 1, 0, 1, 1, 1, 1, 1, 1, 1, 1, 1, 1, 1, 0, 0, 1,\n",
            "        0, 0])\n"
          ],
          "name": "stdout"
        }
      ]
    },
    {
      "cell_type": "code",
      "metadata": {
        "id": "twonHx5Mo3r2",
        "colab_type": "code",
        "colab": {
          "base_uri": "https://localhost:8080/",
          "height": 34
        },
        "outputId": "5c370641-27b7-460c-bc1f-1c78d446f630"
      },
      "source": [
        "train_on_gpu=torch.cuda.is_available()\n",
        "\n",
        "if(train_on_gpu):\n",
        "    print('Training on GPU.')\n",
        "else:\n",
        "    print('No GPU available, training on CPU.')"
      ],
      "execution_count": 78,
      "outputs": [
        {
          "output_type": "stream",
          "text": [
            "No GPU available, training on CPU.\n"
          ],
          "name": "stdout"
        }
      ]
    },
    {
      "cell_type": "code",
      "metadata": {
        "id": "TvaCV5rHo8_C",
        "colab_type": "code",
        "colab": {}
      },
      "source": [
        "import torch.nn as nn\n",
        "\n",
        "class SentimentRNN(nn.Module):\n",
        "    \"\"\"\n",
        "    The RNN model that will be used to perform Sentiment analysis.\n",
        "    \"\"\"\n",
        "\n",
        "    def __init__(self, vocab_size, output_size, embedding_dim, hidden_dim, n_layers, drop_prob=0.5):\n",
        "        \"\"\"\n",
        "        Initialize the model by setting up the layers.\n",
        "        \"\"\"\n",
        "        super(SentimentRNN, self).__init__()\n",
        "\n",
        "        self.output_size = output_size\n",
        "        self.n_layers = n_layers\n",
        "        self.hidden_dim = hidden_dim\n",
        "        \n",
        "        # embedding and LSTM layers\n",
        "        self.embedding = nn.Embedding(vocab_size, embedding_dim)\n",
        "        self.lstm = nn.LSTM(embedding_dim, hidden_dim, n_layers, \n",
        "                            dropout=drop_prob, batch_first=True)\n",
        "        \n",
        "        # dropout layer\n",
        "        self.dropout = nn.Dropout(0.3)\n",
        "        \n",
        "        # linear and sigmoid layers\n",
        "        self.fc = nn.Linear(hidden_dim, output_size)\n",
        "        self.sig = nn.Sigmoid()\n",
        "        \n",
        "\n",
        "    def forward(self, x, hidden):\n",
        "        \"\"\"\n",
        "        Perform a forward pass of our model on some input and hidden state.\n",
        "        \"\"\"\n",
        "        batch_size = x.size(0)\n",
        "\n",
        "        # embeddings and lstm_out\n",
        "        x = x.long()\n",
        "        embeds = self.embedding(x)\n",
        "        lstm_out, hidden = self.lstm(embeds, hidden)\n",
        "    \n",
        "        # stack up lstm outputs\n",
        "        lstm_out = lstm_out.contiguous().view(-1, self.hidden_dim)\n",
        "        \n",
        "        # dropout and fully-connected layer\n",
        "        out = self.dropout(lstm_out)\n",
        "        out = self.fc(out)\n",
        "        # sigmoid function\n",
        "        sig_out = self.sig(out)\n",
        "        \n",
        "        # reshape to be batch_size first\n",
        "        sig_out = sig_out.view(batch_size, -1)\n",
        "        sig_out = sig_out[:, -1] # get last batch of labels\n",
        "        \n",
        "        # return last sigmoid output and hidden state\n",
        "        return sig_out, hidden\n",
        "    \n",
        "    \n",
        "    def init_hidden(self, batch_size):\n",
        "        ''' Initializes hidden state '''\n",
        "        # Create two new tensors with sizes n_layers x batch_size x hidden_dim,\n",
        "        # initialized to zero, for hidden state and cell state of LSTM\n",
        "        weight = next(self.parameters()).data\n",
        "        \n",
        "        if (train_on_gpu):\n",
        "            hidden = (weight.new(self.n_layers, batch_size, self.hidden_dim).zero_().cuda(),\n",
        "                  weight.new(self.n_layers, batch_size, self.hidden_dim).zero_().cuda())\n",
        "        else:\n",
        "            hidden = (weight.new(self.n_layers, batch_size, self.hidden_dim).zero_(),\n",
        "                      weight.new(self.n_layers, batch_size, self.hidden_dim).zero_())\n",
        "        \n",
        "        return hidden"
      ],
      "execution_count": 79,
      "outputs": []
    },
    {
      "cell_type": "code",
      "metadata": {
        "id": "28-h9kKupDkh",
        "colab_type": "code",
        "colab": {
          "base_uri": "https://localhost:8080/",
          "height": 136
        },
        "outputId": "9c5d9286-cf81-4c0a-8ca2-80cd56de9d93"
      },
      "source": [
        "vocab_size = len(vocab_to_int)+1 # +1 for the 0 padding + our word tokens\n",
        "output_size = 1\n",
        "embedding_dim = 400\n",
        "hidden_dim = 256\n",
        "n_layers = 2\n",
        "\n",
        "net = SentimentRNN(vocab_size, output_size, embedding_dim, hidden_dim, n_layers)\n",
        "\n",
        "print(net)"
      ],
      "execution_count": 80,
      "outputs": [
        {
          "output_type": "stream",
          "text": [
            "SentimentRNN(\n",
            "  (embedding): Embedding(37936, 400)\n",
            "  (lstm): LSTM(400, 256, num_layers=2, batch_first=True, dropout=0.5)\n",
            "  (dropout): Dropout(p=0.3, inplace=False)\n",
            "  (fc): Linear(in_features=256, out_features=1, bias=True)\n",
            "  (sig): Sigmoid()\n",
            ")\n"
          ],
          "name": "stdout"
        }
      ]
    },
    {
      "cell_type": "code",
      "metadata": {
        "id": "bjMK1kc0TCUv",
        "colab_type": "code",
        "colab": {}
      },
      "source": [
        "lr=0.001\n",
        "\n",
        "criterion = nn.BCELoss()\n",
        "optimizer = torch.optim.Adam(net.parameters(), lr=lr)"
      ],
      "execution_count": 81,
      "outputs": []
    },
    {
      "cell_type": "code",
      "metadata": {
        "id": "9oJpkoqMTINt",
        "colab_type": "code",
        "colab": {
          "base_uri": "https://localhost:8080/",
          "height": 680
        },
        "outputId": "77a46091-6163-4623-a28e-41e000b86e4b"
      },
      "source": [
        "epochs = 3 # 3-4 is approx where I noticed the validation loss stop decreasing\n",
        "\n",
        "counter = 0\n",
        "print_every = 100\n",
        "clip=5 # gradient clipping\n",
        "\n",
        "# move model to GPU, if available\n",
        "if(train_on_gpu):\n",
        "    net.cuda()\n",
        "\n",
        "net.train()\n",
        "# train for some number of epochs\n",
        "for e in range(epochs):\n",
        "    # initialize hidden state\n",
        "    h = net.init_hidden(batch_size)\n",
        "\n",
        "    # batch loop\n",
        "    for inputs, labels in train_loader:\n",
        "        counter += 1\n",
        "\n",
        "        if(train_on_gpu):\n",
        "            inputs, labels = inputs.cuda(), labels.cuda()\n",
        "\n",
        "        # Creating new variables for the hidden state, otherwise\n",
        "        # we'd backprop through the entire training history\n",
        "        h = tuple([each.data for each in h])\n",
        "\n",
        "        # zero accumulated gradients\n",
        "        net.zero_grad()\n",
        "\n",
        "        # get the output from the model\n",
        "        output, h = net(inputs, h)\n",
        "\n",
        "        # calculate the loss and perform backprop\n",
        "        loss = criterion(output.squeeze(), labels.float())\n",
        "        loss.backward()\n",
        "        # `clip_grad_norm` helps prevent the exploding gradient problem in RNNs / LSTMs.\n",
        "        nn.utils.clip_grad_norm_(net.parameters(), clip)\n",
        "        optimizer.step()\n",
        "\n",
        "        # loss stats\n",
        "        if counter % print_every == 0:\n",
        "            # Get validation loss\n",
        "            val_h = net.init_hidden(batch_size)\n",
        "            val_losses = []\n",
        "            net.eval()\n",
        "            for inputs, labels in valid_loader:\n",
        "\n",
        "                # Creating new variables for the hidden state, otherwise\n",
        "                # we'd backprop through the entire training history\n",
        "                val_h = tuple([each.data for each in val_h])\n",
        "\n",
        "                if(train_on_gpu):\n",
        "                    inputs, labels = inputs.cuda(), labels.cuda()\n",
        "\n",
        "                output, val_h = net(inputs, val_h)\n",
        "                val_loss = criterion(output.squeeze(), labels.float())\n",
        "                \n",
        "\n",
        "                val_losses.append(val_loss.item())\n",
        "                \n",
        "\n",
        "            net.train()\n",
        "            print(\"Epoch: {}/{}...\".format(e+1, epochs),\n",
        "                  \"Step: {}...\".format(counter),\n",
        "                  \"Loss: {:.6f}...\".format(loss.item()),\n",
        "                  \"Val Loss: {:.6f}\".format(np.mean(val_losses)))"
      ],
      "execution_count": 82,
      "outputs": [
        {
          "output_type": "stream",
          "text": [
            "Epoch: 1/3... Step: 100... Loss: 0.315559... Val Loss: 0.243885\n",
            "Epoch: 1/3... Step: 200... Loss: 0.248187... Val Loss: 0.216228\n",
            "Epoch: 1/3... Step: 300... Loss: 0.075219... Val Loss: 0.181063\n",
            "Epoch: 1/3... Step: 400... Loss: 0.121231... Val Loss: 0.172986\n",
            "Epoch: 1/3... Step: 500... Loss: 0.056832... Val Loss: 0.155511\n",
            "Epoch: 1/3... Step: 600... Loss: 0.220556... Val Loss: 0.148220\n",
            "Epoch: 1/3... Step: 700... Loss: 0.093756... Val Loss: 0.140262\n",
            "Epoch: 1/3... Step: 800... Loss: 0.121127... Val Loss: 0.137542\n",
            "Epoch: 1/3... Step: 900... Loss: 0.062822... Val Loss: 0.129181\n",
            "Epoch: 1/3... Step: 1000... Loss: 0.252006... Val Loss: 0.134116\n",
            "Epoch: 1/3... Step: 1100... Loss: 0.039933... Val Loss: 0.123729\n",
            "Epoch: 1/3... Step: 1200... Loss: 0.226315... Val Loss: 0.122959\n",
            "Epoch: 1/3... Step: 1300... Loss: 0.094178... Val Loss: 0.120507\n",
            "Epoch: 2/3... Step: 1400... Loss: 0.028953... Val Loss: 0.122670\n",
            "Epoch: 2/3... Step: 1500... Loss: 0.039222... Val Loss: 0.138176\n",
            "Epoch: 2/3... Step: 1600... Loss: 0.115396... Val Loss: 0.121744\n",
            "Epoch: 2/3... Step: 1700... Loss: 0.053763... Val Loss: 0.123229\n",
            "Epoch: 2/3... Step: 1800... Loss: 0.169882... Val Loss: 0.124332\n",
            "Epoch: 2/3... Step: 1900... Loss: 0.042914... Val Loss: 0.126316\n",
            "Epoch: 2/3... Step: 2000... Loss: 0.057961... Val Loss: 0.123563\n",
            "Epoch: 2/3... Step: 2100... Loss: 0.027571... Val Loss: 0.118633\n",
            "Epoch: 2/3... Step: 2200... Loss: 0.027695... Val Loss: 0.110967\n",
            "Epoch: 2/3... Step: 2300... Loss: 0.044885... Val Loss: 0.118363\n",
            "Epoch: 2/3... Step: 2400... Loss: 0.126603... Val Loss: 0.111792\n",
            "Epoch: 2/3... Step: 2500... Loss: 0.075016... Val Loss: 0.122020\n",
            "Epoch: 2/3... Step: 2600... Loss: 0.058539... Val Loss: 0.125367\n",
            "Epoch: 3/3... Step: 2700... Loss: 0.088216... Val Loss: 0.145460\n",
            "Epoch: 3/3... Step: 2800... Loss: 0.004983... Val Loss: 0.159283\n",
            "Epoch: 3/3... Step: 2900... Loss: 0.015871... Val Loss: 0.163283\n",
            "Epoch: 3/3... Step: 3000... Loss: 0.027698... Val Loss: 0.153197\n",
            "Epoch: 3/3... Step: 3100... Loss: 0.010989... Val Loss: 0.156432\n",
            "Epoch: 3/3... Step: 3200... Loss: 0.017612... Val Loss: 0.143488\n",
            "Epoch: 3/3... Step: 3300... Loss: 0.140101... Val Loss: 0.155761\n",
            "Epoch: 3/3... Step: 3400... Loss: 0.029064... Val Loss: 0.144991\n",
            "Epoch: 3/3... Step: 3500... Loss: 0.063601... Val Loss: 0.141826\n",
            "Epoch: 3/3... Step: 3600... Loss: 0.024247... Val Loss: 0.138729\n",
            "Epoch: 3/3... Step: 3700... Loss: 0.025000... Val Loss: 0.150375\n",
            "Epoch: 3/3... Step: 3800... Loss: 0.032850... Val Loss: 0.129369\n",
            "Epoch: 3/3... Step: 3900... Loss: 0.006731... Val Loss: 0.134220\n"
          ],
          "name": "stdout"
        }
      ]
    },
    {
      "cell_type": "code",
      "metadata": {
        "id": "PTrFNSRn8tjt",
        "colab_type": "code",
        "colab": {
          "base_uri": "https://localhost:8080/",
          "height": 51
        },
        "outputId": "eda8a264-e99e-4d9b-a6ab-8424c8665b2b"
      },
      "source": [
        "test_losses = [] # track loss\n",
        "num_correct = 0\n",
        "\n",
        "# init hidden state\n",
        "h = net.init_hidden(batch_size)\n",
        "\n",
        "net.eval()\n",
        "# iterate over test data\n",
        "for inputs, labels in test_loader:\n",
        "\n",
        "    # Creating new variables for the hidden state, otherwise\n",
        "    # we'd backprop through the entire training history\n",
        "    h = tuple([each.data for each in h])\n",
        "\n",
        "    if(train_on_gpu):\n",
        "        inputs, labels = inputs.cuda(), labels.cuda()\n",
        "    \n",
        "    # get predicted outputs\n",
        "    output, h = net(inputs, h)\n",
        "    \n",
        "    # calculate loss\n",
        "    test_loss = criterion(output.squeeze(), labels.float())\n",
        "    test_losses.append(test_loss.item())\n",
        "    \n",
        "    # convert output probabilities to predicted class (0 or 1)\n",
        "    pred = torch.round(output.squeeze())  # rounds to the nearest integer\n",
        "    \n",
        "    # compare predictions to true label\n",
        "    correct_tensor = pred.eq(labels.float().view_as(pred))\n",
        "    correct = np.squeeze(correct_tensor.numpy()) if not train_on_gpu else np.squeeze(correct_tensor.cpu().numpy())\n",
        "    num_correct += np.sum(correct)\n",
        "\n",
        "\n",
        "# -- stats! -- ##\n",
        "# avg test loss\n",
        "print(\"Test loss: {:.3f}\".format(np.mean(test_losses)))\n",
        "\n",
        "# accuracy over all test data\n",
        "test_acc = num_correct/len(test_loader.dataset)\n",
        "print(\"Test accuracy: {:.3f}\".format(test_acc))"
      ],
      "execution_count": 83,
      "outputs": [
        {
          "output_type": "stream",
          "text": [
            "Test loss: 0.138\n",
            "Test accuracy: 0.948\n"
          ],
          "name": "stdout"
        }
      ]
    },
    {
      "cell_type": "code",
      "metadata": {
        "id": "lpueCgvpFLrX",
        "colab_type": "code",
        "colab": {}
      },
      "source": [
        "test_review_neg = 'corona makes me sick'"
      ],
      "execution_count": 84,
      "outputs": []
    },
    {
      "cell_type": "code",
      "metadata": {
        "id": "EJFePe4X886C",
        "colab_type": "code",
        "colab": {}
      },
      "source": [
        ""
      ],
      "execution_count": null,
      "outputs": []
    },
    {
      "cell_type": "code",
      "metadata": {
        "id": "P65T6DJB92a3",
        "colab_type": "code",
        "colab": {
          "base_uri": "https://localhost:8080/",
          "height": 34
        },
        "outputId": "56ca44dc-e75c-4c6b-d0e4-6906055832f8"
      },
      "source": [
        "from string import punctuation\n",
        "\n",
        "def tokenize_review(test_review):\n",
        "    test_review = test_review.lower() # lowercase\n",
        "    # get rid of punctuation\n",
        "    test_text = ''.join([c for c in test_review if c not in punctuation])\n",
        "\n",
        "    # splitting by spaces\n",
        "    test_words = test_text.split()\n",
        "\n",
        "    # tokens\n",
        "    test_ints = []\n",
        "    test_ints.append([vocab_to_int[word] for word in test_words])\n",
        "\n",
        "    return test_ints\n",
        "\n",
        "# test code and generate tokenized review\n",
        "test_ints = tokenize_review(test_review_neg)\n",
        "print(test_ints)"
      ],
      "execution_count": 85,
      "outputs": [
        {
          "output_type": "stream",
          "text": [
            "[[1, 907, 33, 73]]\n"
          ],
          "name": "stdout"
        }
      ]
    },
    {
      "cell_type": "code",
      "metadata": {
        "id": "42m2lZ4j97lZ",
        "colab_type": "code",
        "colab": {
          "base_uri": "https://localhost:8080/",
          "height": 51
        },
        "outputId": "f95a6fd9-0b90-412e-bb6d-230ee9331062"
      },
      "source": [
        "seq_length=20\n",
        "features = pad_features(test_ints, seq_length)\n",
        "\n",
        "print(features)"
      ],
      "execution_count": 86,
      "outputs": [
        {
          "output_type": "stream",
          "text": [
            "[[  0   0   0   0   0   0   0   0   0   0   0   0   0   0   0   0   1 907\n",
            "   33  73]]\n"
          ],
          "name": "stdout"
        }
      ]
    },
    {
      "cell_type": "code",
      "metadata": {
        "id": "d7ZnmIwo-GC0",
        "colab_type": "code",
        "colab": {
          "base_uri": "https://localhost:8080/",
          "height": 34
        },
        "outputId": "2f5b50f6-4a36-4bc6-b2c4-ec729bd8bdef"
      },
      "source": [
        "feature_tensor = torch.from_numpy(features)\n",
        "print(feature_tensor.size())"
      ],
      "execution_count": 87,
      "outputs": [
        {
          "output_type": "stream",
          "text": [
            "torch.Size([1, 20])\n"
          ],
          "name": "stdout"
        }
      ]
    },
    {
      "cell_type": "code",
      "metadata": {
        "id": "CyC8jQKy-NQD",
        "colab_type": "code",
        "colab": {}
      },
      "source": [
        "def predict(net, test_review, sequence_length=200):\n",
        "    \n",
        "    net.eval()\n",
        "    \n",
        "    # tokenize review\n",
        "    test_ints = tokenize_review(test_review)\n",
        "    \n",
        "    # pad tokenized sequence\n",
        "    seq_length=sequence_length\n",
        "    features = pad_features(test_ints, seq_length)\n",
        "    \n",
        "    # convert to tensor to pass into your model\n",
        "    feature_tensor = torch.from_numpy(features)\n",
        "    \n",
        "    batch_size = feature_tensor.size(0)\n",
        "    \n",
        "    # initialize hidden state\n",
        "    h = net.init_hidden(batch_size)\n",
        "    \n",
        "    if(train_on_gpu):\n",
        "        feature_tensor = feature_tensor.cuda()\n",
        "    \n",
        "    # get the output from the model\n",
        "    output, h = net(feature_tensor, h)\n",
        "    \n",
        "    # convert output probabilities to predicted class (0 or 1)\n",
        "    pred = torch.round(output.squeeze()) \n",
        "    # printing output value, before rounding\n",
        "    print('Prediction value, pre-rounding: {:.6f}'.format(output.item()))\n",
        "    \n",
        "    # print custom response\n",
        "    if(pred.item()==1):\n",
        "        print(\"Positive review detected!\")\n",
        "    else:\n",
        "        print(\"Negative review detected.\")"
      ],
      "execution_count": 88,
      "outputs": []
    },
    {
      "cell_type": "code",
      "metadata": {
        "id": "TKqpozas-qn-",
        "colab_type": "code",
        "colab": {
          "base_uri": "https://localhost:8080/",
          "height": 85
        },
        "outputId": "aae6a193-6603-4147-94a7-5f95f3c127d0"
      },
      "source": [
        "test_review_neg = 'corona is fuck '\n",
        "pos_review=' there is complete quarantine facility at india'\n",
        "seq_length=20\n",
        "predict(net, test_review_neg, seq_length)\n",
        "predict(net,pos_review,seq_length)"
      ],
      "execution_count": 91,
      "outputs": [
        {
          "output_type": "stream",
          "text": [
            "Prediction value, pre-rounding: 0.018094\n",
            "Negative review detected.\n",
            "Prediction value, pre-rounding: 0.999964\n",
            "Positive review detected!\n"
          ],
          "name": "stdout"
        }
      ]
    },
    {
      "cell_type": "code",
      "metadata": {
        "id": "wzHDCUJOG9Ok",
        "colab_type": "code",
        "colab": {
          "base_uri": "https://localhost:8080/",
          "height": 304
        },
        "outputId": "e79b640d-ff33-4ae9-ab10-1da181f73bb9"
      },
      "source": [
        "plt.plot(test_losses, label='Training loss')\n",
        "plt.plot(val_losses, label='Validation loss')\n",
        "ax = plt.gca()\n",
        "ax.grid(True)\n",
        "plt.legend()\n",
        "plt.ylim(ymax=0.8)"
      ],
      "execution_count": 92,
      "outputs": [
        {
          "output_type": "execute_result",
          "data": {
            "text/plain": [
              "(-0.020150963007472458, 0.8)"
            ]
          },
          "metadata": {
            "tags": []
          },
          "execution_count": 92
        },
        {
          "output_type": "display_data",
          "data": {
            "image/png": "[encoded data removed]",
            "text/plain": [
              "<Figure size 432x288 with 1 Axes>"
            ]
          },
          "metadata": {
            "tags": []
          }
        }
      ]
    }
  ]
}